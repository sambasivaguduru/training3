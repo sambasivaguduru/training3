{
 "cells": [
  {
   "cell_type": "code",
   "execution_count": 1,
   "metadata": {},
   "outputs": [],
   "source": [
    "import sqlite3"
   ]
  },
  {
   "cell_type": "code",
   "execution_count": 2,
   "metadata": {},
   "outputs": [],
   "source": [
    "con = sqlite3.connect(\"db1.sqlite3\")"
   ]
  },
  {
   "cell_type": "code",
   "execution_count": 3,
   "metadata": {},
   "outputs": [],
   "source": [
    "cur = con.cursor()"
   ]
  },
  {
   "cell_type": "code",
   "execution_count": 4,
   "metadata": {},
   "outputs": [
    {
     "data": {
      "text/plain": [
       "<sqlite3.Cursor at 0x3039ea0>"
      ]
     },
     "execution_count": 4,
     "metadata": {},
     "output_type": "execute_result"
    }
   ],
   "source": [
    "cur.execute(\"create table volume(id int primarykey, name varchar(250))\")"
   ]
  },
  {
   "cell_type": "code",
   "execution_count": 5,
   "metadata": {},
   "outputs": [
    {
     "data": {
      "text/plain": [
       "u'D:\\\\training3'"
      ]
     },
     "execution_count": 5,
     "metadata": {},
     "output_type": "execute_result"
    }
   ],
   "source": [
    "pwd"
   ]
  },
  {
   "cell_type": "code",
   "execution_count": 7,
   "metadata": {},
   "outputs": [
    {
     "data": {
      "text/plain": [
       "<sqlite3.Cursor at 0x3039ea0>"
      ]
     },
     "execution_count": 7,
     "metadata": {},
     "output_type": "execute_result"
    }
   ],
   "source": [
    "q=\"insert into volume values(1,'testvol1')\"\n",
    "cur.execute(q)"
   ]
  },
  {
   "cell_type": "code",
   "execution_count": 8,
   "metadata": {},
   "outputs": [],
   "source": [
    "con.commit()"
   ]
  },
  {
   "cell_type": "code",
   "execution_count": 10,
   "metadata": {},
   "outputs": [
    {
     "name": "stdout",
     "output_type": "stream",
     "text": [
      "enter vol id:2\n",
      "enter vol name:testvol2\n",
      "insert into volume values(2, 'testvol2')\n"
     ]
    }
   ],
   "source": [
    "vol_id = raw_input(\"enter vol id:\")\n",
    "vol_name= raw_input(\"enter vol name:\")\n",
    "q=\"insert into volume values(%s, '%s')\"%(vol_id, vol_name)\n",
    "print q"
   ]
  },
  {
   "cell_type": "code",
   "execution_count": 11,
   "metadata": {},
   "outputs": [
    {
     "data": {
      "text/plain": [
       "<sqlite3.Cursor at 0x3039ea0>"
      ]
     },
     "execution_count": 11,
     "metadata": {},
     "output_type": "execute_result"
    }
   ],
   "source": [
    "cur.execute(q)"
   ]
  },
  {
   "cell_type": "code",
   "execution_count": 12,
   "metadata": {},
   "outputs": [],
   "source": [
    "con.commit()"
   ]
  },
  {
   "cell_type": "code",
   "execution_count": 15,
   "metadata": {},
   "outputs": [],
   "source": [
    "#WAP to insert a bulk random data in to volume table.\n",
    "names= [\"kavya\",\"sugitha\",\"pragnya\",\"swathi\",\"sindhu\",\"raghu\",\"ravi\",\n",
    "        \"nagaraju\",\"theddu\",\"thumu\",\"mani\",\"samba\",\"ravi duda\",\"shiva\",\"sai\",\n",
    "       \"dheeraj\"]\n",
    "import random\n",
    "for i in xrange(3,1000):\n",
    "    q=\"insert into volume values(%s,'%s')\"%(i, random.choice(names))\n",
    "    cur.execute(q)\n",
    "con.commit()"
   ]
  },
  {
   "cell_type": "code",
   "execution_count": 16,
   "metadata": {},
   "outputs": [
    {
     "data": {
      "text/plain": [
       "<sqlite3.Cursor at 0x3039ea0>"
      ]
     },
     "execution_count": 16,
     "metadata": {},
     "output_type": "execute_result"
    }
   ],
   "source": [
    "q=\"insert into volume values(1,'ask')\"\n",
    "cur.execute(q)"
   ]
  },
  {
   "cell_type": "code",
   "execution_count": 17,
   "metadata": {},
   "outputs": [],
   "source": [
    "con.commit()"
   ]
  },
  {
   "cell_type": "code",
   "execution_count": 18,
   "metadata": {},
   "outputs": [
    {
     "data": {
      "text/plain": [
       "<sqlite3.Cursor at 0x3039ea0>"
      ]
     },
     "execution_count": 18,
     "metadata": {},
     "output_type": "execute_result"
    }
   ],
   "source": [
    "q=\"select * from volume\"\n",
    "cur.execute(q)"
   ]
  },
  {
   "cell_type": "code",
   "execution_count": 19,
   "metadata": {},
   "outputs": [],
   "source": [
    "data = cur.fetchall()"
   ]
  },
  {
   "cell_type": "code",
   "execution_count": 20,
   "metadata": {},
   "outputs": [
    {
     "name": "stdout",
     "output_type": "stream",
     "text": [
      "[(1, u'testvol1'), (2, u'testvol2'), (3, u'sai'), (4, u'theddu'), (5, u'shiva'), (6, u'raghu'), (7, u'dheeraj'), (8, u'kavya'), (9, u'sai'), (10, u'raghu'), (11, u'kavya'), (12, u'thumu'), (13, u'ravi'), (14, u'ravi duda'), (15, u'dheeraj'), (16, u'sindhu'), (17, u'swathi'), (18, u'theddu'), (19, u'raghu'), (20, u'kavya'), (21, u'ravi'), (22, u'mani'), (23, u'pragnya'), (24, u'thumu'), (25, u'dheeraj'), (26, u'kavya'), (27, u'mani'), (28, u'thumu'), (29, u'samba'), (30, u'shiva'), (31, u'sai'), (32, u'nagaraju'), (33, u'kavya'), (34, u'ravi'), (35, u'sugitha'), (36, u'pragnya'), (37, u'kavya'), (38, u'dheeraj'), (39, u'dheeraj'), (40, u'pragnya'), (41, u'dheeraj'), (42, u'dheeraj'), (43, u'nagaraju'), (44, u'sindhu'), (45, u'sai'), (46, u'sindhu'), (47, u'kavya'), (48, u'swathi'), (49, u'nagaraju'), (50, u'samba'), (51, u'samba'), (52, u'ravi'), (53, u'sindhu'), (54, u'raghu'), (55, u'ravi'), (56, u'dheeraj'), (57, u'theddu'), (58, u'sugitha'), (59, u'dheeraj'), (60, u'samba'), (61, u'kavya'), (62, u'ravi duda'), (63, u'ravi'), (64, u'sai'), (65, u'nagaraju'), (66, u'dheeraj'), (67, u'sindhu'), (68, u'raghu'), (69, u'thumu'), (70, u'raghu'), (71, u'ravi duda'), (72, u'sugitha'), (73, u'nagaraju'), (74, u'theddu'), (75, u'pragnya'), (76, u'theddu'), (77, u'raghu'), (78, u'samba'), (79, u'pragnya'), (80, u'thumu'), (81, u'mani'), (82, u'pragnya'), (83, u'nagaraju'), (84, u'raghu'), (85, u'sai'), (86, u'mani'), (87, u'raghu'), (88, u'swathi'), (89, u'sindhu'), (90, u'theddu'), (91, u'theddu'), (92, u'dheeraj'), (93, u'ravi duda'), (94, u'mani'), (95, u'theddu'), (96, u'sugitha'), (97, u'shiva'), (98, u'pragnya'), (99, u'ravi duda'), (100, u'sugitha'), (101, u'swathi'), (102, u'nagaraju'), (103, u'thumu'), (104, u'sugitha'), (105, u'sindhu'), (106, u'kavya'), (107, u'sai'), (108, u'kavya'), (109, u'dheeraj'), (110, u'swathi'), (111, u'dheeraj'), (112, u'mani'), (113, u'pragnya'), (114, u'raghu'), (115, u'theddu'), (116, u'kavya'), (117, u'theddu'), (118, u'dheeraj'), (119, u'samba'), (120, u'mani'), (121, u'ravi'), (122, u'kavya'), (123, u'swathi'), (124, u'swathi'), (125, u'nagaraju'), (126, u'nagaraju'), (127, u'nagaraju'), (128, u'dheeraj'), (129, u'theddu'), (130, u'sugitha'), (131, u'pragnya'), (132, u'nagaraju'), (133, u'sugitha'), (134, u'samba'), (135, u'shiva'), (136, u'sugitha'), (137, u'sai'), (138, u'thumu'), (139, u'sai'), (140, u'ravi'), (141, u'pragnya'), (142, u'nagaraju'), (143, u'swathi'), (144, u'kavya'), (145, u'sindhu'), (146, u'shiva'), (147, u'samba'), (148, u'sindhu'), (149, u'ravi duda'), (150, u'sai'), (151, u'dheeraj'), (152, u'shiva'), (153, u'shiva'), (154, u'thumu'), (155, u'swathi'), (156, u'ravi'), (157, u'kavya'), (158, u'theddu'), (159, u'samba'), (160, u'nagaraju'), (161, u'theddu'), (162, u'theddu'), (163, u'samba'), (164, u'thumu'), (165, u'shiva'), (166, u'sugitha'), (167, u'sindhu'), (168, u'sai'), (169, u'theddu'), (170, u'sugitha'), (171, u'mani'), (172, u'mani'), (173, u'raghu'), (174, u'theddu'), (175, u'sindhu'), (176, u'dheeraj'), (177, u'thumu'), (178, u'dheeraj'), (179, u'mani'), (180, u'sindhu'), (181, u'shiva'), (182, u'mani'), (183, u'sindhu'), (184, u'swathi'), (185, u'kavya'), (186, u'swathi'), (187, u'sindhu'), (188, u'shiva'), (189, u'shiva'), (190, u'ravi duda'), (191, u'samba'), (192, u'dheeraj'), (193, u'kavya'), (194, u'pragnya'), (195, u'shiva'), (196, u'kavya'), (197, u'nagaraju'), (198, u'mani'), (199, u'thumu'), (200, u'sugitha'), (201, u'sindhu'), (202, u'sindhu'), (203, u'pragnya'), (204, u'dheeraj'), (205, u'ravi duda'), (206, u'dheeraj'), (207, u'ravi duda'), (208, u'raghu'), (209, u'thumu'), (210, u'thumu'), (211, u'swathi'), (212, u'nagaraju'), (213, u'shiva'), (214, u'mani'), (215, u'nagaraju'), (216, u'sindhu'), (217, u'nagaraju'), (218, u'ravi'), (219, u'shiva'), (220, u'sindhu'), (221, u'pragnya'), (222, u'thumu'), (223, u'dheeraj'), (224, u'sai'), (225, u'mani'), (226, u'swathi'), (227, u'raghu'), (228, u'ravi duda'), (229, u'samba'), (230, u'dheeraj'), (231, u'ravi duda'), (232, u'kavya'), (233, u'kavya'), (234, u'swathi'), (235, u'ravi duda'), (236, u'kavya'), (237, u'mani'), (238, u'kavya'), (239, u'sai'), (240, u'pragnya'), (241, u'nagaraju'), (242, u'mani'), (243, u'swathi'), (244, u'nagaraju'), (245, u'thumu'), (246, u'thumu'), (247, u'thumu'), (248, u'thumu'), (249, u'sugitha'), (250, u'pragnya'), (251, u'kavya'), (252, u'swathi'), (253, u'swathi'), (254, u'sindhu'), (255, u'shiva'), (256, u'dheeraj'), (257, u'ravi'), (258, u'mani'), (259, u'raghu'), (260, u'mani'), (261, u'thumu'), (262, u'sai'), (263, u'theddu'), (264, u'ravi duda'), (265, u'raghu'), (266, u'swathi'), (267, u'shiva'), (268, u'dheeraj'), (269, u'swathi'), (270, u'sai'), (271, u'mani'), (272, u'shiva'), (273, u'sai'), (274, u'samba'), (275, u'theddu'), (276, u'raghu'), (277, u'shiva'), (278, u'theddu'), (279, u'mani'), (280, u'samba'), (281, u'ravi'), (282, u'nagaraju'), (283, u'mani'), (284, u'nagaraju'), (285, u'kavya'), (286, u'swathi'), (287, u'nagaraju'), (288, u'pragnya'), (289, u'nagaraju'), (290, u'sai'), (291, u'kavya'), (292, u'shiva'), (293, u'mani'), (294, u'mani'), (295, u'mani'), (296, u'dheeraj'), (297, u'samba'), (298, u'ravi'), (299, u'pragnya'), (300, u'dheeraj'), (301, u'kavya'), (302, u'mani'), (303, u'shiva'), (304, u'ravi duda'), (305, u'mani'), (306, u'ravi duda'), (307, u'swathi'), (308, u'ravi'), (309, u'dheeraj'), (310, u'kavya'), (311, u'swathi'), (312, u'swathi'), (313, u'swathi'), (314, u'sindhu'), (315, u'samba'), (316, u'pragnya'), (317, u'raghu'), (318, u'thumu'), (319, u'pragnya'), (320, u'pragnya'), (321, u'shiva'), (322, u'swathi'), (323, u'shiva'), (324, u'thumu'), (325, u'theddu'), (326, u'sai'), (327, u'nagaraju'), (328, u'dheeraj'), (329, u'sai'), (330, u'sugitha'), (331, u'kavya'), (332, u'sai'), (333, u'samba'), (334, u'sugitha'), (335, u'sindhu'), (336, u'pragnya'), (337, u'sindhu'), (338, u'shiva'), (339, u'pragnya'), (340, u'raghu'), (341, u'shiva'), (342, u'swathi'), (343, u'dheeraj'), (344, u'ravi duda'), (345, u'sugitha'), (346, u'thumu'), (347, u'swathi'), (348, u'thumu'), (349, u'thumu'), (350, u'nagaraju'), (351, u'nagaraju'), (352, u'mani'), (353, u'mani'), (354, u'sugitha'), (355, u'swathi'), (356, u'raghu'), (357, u'pragnya'), (358, u'kavya'), (359, u'pragnya'), (360, u'sugitha'), (361, u'swathi'), (362, u'sugitha'), (363, u'samba'), (364, u'shiva'), (365, u'raghu'), (366, u'raghu'), (367, u'kavya'), (368, u'raghu'), (369, u'nagaraju'), (370, u'dheeraj'), (371, u'theddu'), (372, u'samba'), (373, u'ravi'), (374, u'mani'), (375, u'theddu'), (376, u'samba'), (377, u'samba'), (378, u'sindhu'), (379, u'sai'), (380, u'kavya'), (381, u'dheeraj'), (382, u'sindhu'), (383, u'ravi'), (384, u'kavya'), (385, u'kavya'), (386, u'swathi'), (387, u'sindhu'), (388, u'samba'), (389, u'samba'), (390, u'raghu'), (391, u'raghu'), (392, u'theddu'), (393, u'sindhu'), (394, u'kavya'), (395, u'nagaraju'), (396, u'nagaraju'), (397, u'dheeraj'), (398, u'nagaraju'), (399, u'ravi duda'), (400, u'thumu'), (401, u'sai'), (402, u'mani'), (403, u'shiva'), (404, u'nagaraju'), (405, u'sugitha'), (406, u'samba'), (407, u'thumu'), (408, u'raghu'), (409, u'swathi'), (410, u'kavya'), (411, u'mani'), (412, u'theddu'), (413, u'theddu'), (414, u'theddu'), (415, u'thumu'), (416, u'sindhu'), (417, u'dheeraj'), (418, u'sai'), (419, u'dheeraj'), (420, u'theddu'), (421, u'sugitha'), (422, u'dheeraj'), (423, u'ravi'), (424, u'ravi duda'), (425, u'dheeraj'), (426, u'mani'), (427, u'samba'), (428, u'dheeraj'), (429, u'samba'), (430, u'sai'), (431, u'theddu'), (432, u'dheeraj'), (433, u'theddu'), (434, u'dheeraj'), (435, u'pragnya'), (436, u'kavya'), (437, u'raghu'), (438, u'kavya'), (439, u'nagaraju'), (440, u'ravi'), (441, u'swathi'), (442, u'shiva'), (443, u'ravi duda'), (444, u'sai'), (445, u'swathi'), (446, u'ravi'), (447, u'theddu'), (448, u'sai'), (449, u'raghu'), (450, u'swathi'), (451, u'swathi'), (452, u'shiva'), (453, u'thumu'), (454, u'sai'), (455, u'thumu'), (456, u'dheeraj'), (457, u'sindhu'), (458, u'nagaraju'), (459, u'shiva'), (460, u'theddu'), (461, u'mani'), (462, u'sai'), (463, u'dheeraj'), (464, u'sindhu'), (465, u'swathi'), (466, u'raghu'), (467, u'dheeraj'), (468, u'ravi'), (469, u'theddu'), (470, u'raghu'), (471, u'nagaraju'), (472, u'thumu'), (473, u'swathi'), (474, u'thumu'), (475, u'mani'), (476, u'samba'), (477, u'theddu'), (478, u'dheeraj'), (479, u'raghu'), (480, u'kavya'), (481, u'thumu'), (482, u'nagaraju'), (483, u'thumu'), (484, u'pragnya'), (485, u'raghu'), (486, u'mani'), (487, u'pragnya'), (488, u'dheeraj'), (489, u'dheeraj'), (490, u'raghu'), (491, u'pragnya'), (492, u'pragnya'), (493, u'thumu'), (494, u'mani'), (495, u'samba'), (496, u'ravi duda'), (497, u'ravi duda'), (498, u'sugitha'), (499, u'ravi'), (500, u'theddu'), (501, u'ravi'), (502, u'theddu'), (503, u'thumu'), (504, u'shiva'), (505, u'thumu'), (506, u'ravi duda'), (507, u'samba'), (508, u'ravi duda'), (509, u'thumu'), (510, u'thumu'), (511, u'pragnya'), (512, u'ravi duda'), (513, u'dheeraj'), (514, u'mani'), (515, u'samba'), (516, u'nagaraju'), (517, u'pragnya'), (518, u'mani'), (519, u'dheeraj'), (520, u'ravi'), (521, u'thumu'), (522, u'thumu'), (523, u'ravi duda'), (524, u'sai'), (525, u'sai'), (526, u'shiva'), (527, u'pragnya'), (528, u'dheeraj'), (529, u'sugitha'), (530, u'pragnya'), (531, u'sindhu'), (532, u'swathi'), (533, u'dheeraj'), (534, u'sugitha'), (535, u'raghu'), (536, u'kavya'), (537, u'samba'), (538, u'pragnya'), (539, u'mani'), (540, u'ravi duda'), (541, u'pragnya'), (542, u'theddu'), (543, u'dheeraj'), (544, u'ravi'), (545, u'mani'), (546, u'swathi'), (547, u'pragnya'), (548, u'sai'), (549, u'raghu'), (550, u'sindhu'), (551, u'ravi duda'), (552, u'sugitha'), (553, u'shiva'), (554, u'shiva'), (555, u'dheeraj'), (556, u'swathi'), (557, u'sindhu'), (558, u'sugitha'), (559, u'dheeraj'), (560, u'dheeraj'), (561, u'theddu'), (562, u'theddu'), (563, u'raghu'), (564, u'swathi'), (565, u'kavya'), (566, u'theddu'), (567, u'sugitha'), (568, u'kavya'), (569, u'sugitha'), (570, u'ravi duda'), (571, u'shiva'), (572, u'ravi'), (573, u'pragnya'), (574, u'sugitha'), (575, u'shiva'), (576, u'samba'), (577, u'pragnya'), (578, u'dheeraj'), (579, u'ravi'), (580, u'dheeraj'), (581, u'swathi'), (582, u'samba'), (583, u'raghu'), (584, u'samba'), (585, u'samba'), (586, u'swathi'), (587, u'sugitha'), (588, u'thumu'), (589, u'raghu'), (590, u'raghu'), (591, u'kavya'), (592, u'thumu'), (593, u'theddu'), (594, u'sindhu'), (595, u'nagaraju'), (596, u'thumu'), (597, u'sai'), (598, u'kavya'), (599, u'dheeraj'), (600, u'sugitha'), (601, u'ravi duda'), (602, u'ravi'), (603, u'sindhu'), (604, u'ravi'), (605, u'mani'), (606, u'ravi'), (607, u'thumu'), (608, u'swathi'), (609, u'pragnya'), (610, u'sindhu'), (611, u'theddu'), (612, u'dheeraj'), (613, u'sindhu'), (614, u'shiva'), (615, u'sugitha'), (616, u'kavya'), (617, u'theddu'), (618, u'sindhu'), (619, u'pragnya'), (620, u'theddu'), (621, u'dheeraj'), (622, u'ravi'), (623, u'ravi duda'), (624, u'ravi'), (625, u'kavya'), (626, u'samba'), (627, u'sai'), (628, u'raghu'), (629, u'pragnya'), (630, u'pragnya'), (631, u'theddu'), (632, u'ravi duda'), (633, u'kavya'), (634, u'sugitha'), (635, u'ravi duda'), (636, u'ravi duda'), (637, u'samba'), (638, u'kavya'), (639, u'ravi duda'), (640, u'swathi'), (641, u'theddu'), (642, u'sai'), (643, u'nagaraju'), (644, u'sindhu'), (645, u'pragnya'), (646, u'nagaraju'), (647, u'sai'), (648, u'sugitha'), (649, u'ravi duda'), (650, u'theddu'), (651, u'swathi'), (652, u'pragnya'), (653, u'theddu'), (654, u'sindhu'), (655, u'samba'), (656, u'swathi'), (657, u'sindhu'), (658, u'nagaraju'), (659, u'thumu'), (660, u'ravi duda'), (661, u'sai'), (662, u'raghu'), (663, u'shiva'), (664, u'raghu'), (665, u'thumu'), (666, u'nagaraju'), (667, u'pragnya'), (668, u'kavya'), (669, u'shiva'), (670, u'raghu'), (671, u'theddu'), (672, u'raghu'), (673, u'pragnya'), (674, u'sugitha'), (675, u'kavya'), (676, u'dheeraj'), (677, u'shiva'), (678, u'shiva'), (679, u'swathi'), (680, u'shiva'), (681, u'mani'), (682, u'sindhu'), (683, u'nagaraju'), (684, u'kavya'), (685, u'pragnya'), (686, u'dheeraj'), (687, u'pragnya'), (688, u'pragnya'), (689, u'dheeraj'), (690, u'sugitha'), (691, u'sai'), (692, u'pragnya'), (693, u'shiva'), (694, u'mani'), (695, u'shiva'), (696, u'ravi'), (697, u'samba'), (698, u'thumu'), (699, u'thumu'), (700, u'sai'), (701, u'sindhu'), (702, u'sugitha'), (703, u'swathi'), (704, u'thumu'), (705, u'dheeraj'), (706, u'pragnya'), (707, u'ravi'), (708, u'kavya'), (709, u'pragnya'), (710, u'dheeraj'), (711, u'nagaraju'), (712, u'shiva'), (713, u'nagaraju'), (714, u'theddu'), (715, u'ravi duda'), (716, u'swathi'), (717, u'sindhu'), (718, u'mani'), (719, u'ravi'), (720, u'pragnya'), (721, u'sugitha'), (722, u'ravi duda'), (723, u'swathi'), (724, u'raghu'), (725, u'shiva'), (726, u'sindhu'), (727, u'raghu'), (728, u'raghu'), (729, u'raghu'), (730, u'samba'), (731, u'sindhu'), (732, u'theddu'), (733, u'nagaraju'), (734, u'samba'), (735, u'thumu'), (736, u'sai'), (737, u'ravi duda'), (738, u'samba'), (739, u'ravi duda'), (740, u'dheeraj'), (741, u'kavya'), (742, u'nagaraju'), (743, u'pragnya'), (744, u'sindhu'), (745, u'ravi'), (746, u'raghu'), (747, u'ravi duda'), (748, u'raghu'), (749, u'ravi duda'), (750, u'raghu'), (751, u'nagaraju'), (752, u'swathi'), (753, u'mani'), (754, u'ravi'), (755, u'mani'), (756, u'raghu'), (757, u'sugitha'), (758, u'shiva'), (759, u'samba'), (760, u'swathi'), (761, u'swathi'), (762, u'kavya'), (763, u'theddu'), (764, u'ravi'), (765, u'kavya'), (766, u'mani'), (767, u'sugitha'), (768, u'nagaraju'), (769, u'pragnya'), (770, u'theddu'), (771, u'nagaraju'), (772, u'pragnya'), (773, u'thumu'), (774, u'ravi duda'), (775, u'kavya'), (776, u'shiva'), (777, u'samba'), (778, u'theddu'), (779, u'ravi'), (780, u'nagaraju'), (781, u'thumu'), (782, u'sai'), (783, u'raghu'), (784, u'thumu'), (785, u'nagaraju'), (786, u'nagaraju'), (787, u'thumu'), (788, u'thumu'), (789, u'sindhu'), (790, u'dheeraj'), (791, u'pragnya'), (792, u'ravi duda'), (793, u'mani'), (794, u'ravi duda'), (795, u'mani'), (796, u'pragnya'), (797, u'pragnya'), (798, u'sugitha'), (799, u'theddu'), (800, u'thumu'), (801, u'sugitha'), (802, u'ravi'), (803, u'ravi duda'), (804, u'mani'), (805, u'shiva'), (806, u'shiva'), (807, u'sai'), (808, u'swathi'), (809, u'nagaraju'), (810, u'mani'), (811, u'dheeraj'), (812, u'ravi'), (813, u'theddu'), (814, u'shiva'), (815, u'ravi'), (816, u'pragnya'), (817, u'pragnya'), (818, u'swathi'), (819, u'pragnya'), (820, u'sai'), (821, u'pragnya'), (822, u'dheeraj'), (823, u'thumu'), (824, u'pragnya'), (825, u'mani'), (826, u'ravi duda'), (827, u'samba'), (828, u'raghu'), (829, u'thumu'), (830, u'sai'), (831, u'kavya'), (832, u'sai'), (833, u'dheeraj'), (834, u'samba'), (835, u'dheeraj'), (836, u'theddu'), (837, u'nagaraju'), (838, u'pragnya'), (839, u'sindhu'), (840, u'pragnya'), (841, u'sai'), (842, u'mani'), (843, u'swathi'), (844, u'shiva'), (845, u'samba'), (846, u'raghu'), (847, u'raghu'), (848, u'swathi'), (849, u'dheeraj'), (850, u'nagaraju'), (851, u'raghu'), (852, u'ravi duda'), (853, u'sai'), (854, u'theddu'), (855, u'sugitha'), (856, u'kavya'), (857, u'nagaraju'), (858, u'kavya'), (859, u'samba'), (860, u'thumu'), (861, u'swathi'), (862, u'samba'), (863, u'samba'), (864, u'raghu'), (865, u'kavya'), (866, u'samba'), (867, u'dheeraj'), (868, u'mani'), (869, u'sai'), (870, u'nagaraju'), (871, u'sai'), (872, u'sugitha'), (873, u'shiva'), (874, u'thumu'), (875, u'nagaraju'), (876, u'sai'), (877, u'ravi'), (878, u'dheeraj'), (879, u'sugitha'), (880, u'sai'), (881, u'theddu'), (882, u'nagaraju'), (883, u'mani'), (884, u'raghu'), (885, u'nagaraju'), (886, u'kavya'), (887, u'ravi'), (888, u'thumu'), (889, u'samba'), (890, u'kavya'), (891, u'sugitha'), (892, u'pragnya'), (893, u'raghu'), (894, u'sugitha'), (895, u'ravi duda'), (896, u'dheeraj'), (897, u'pragnya'), (898, u'sai'), (899, u'raghu'), (900, u'dheeraj'), (901, u'mani'), (902, u'mani'), (903, u'thumu'), (904, u'thumu'), (905, u'sai'), (906, u'swathi'), (907, u'sai'), (908, u'theddu'), (909, u'kavya'), (910, u'sindhu'), (911, u'pragnya'), (912, u'shiva'), (913, u'ravi duda'), (914, u'sindhu'), (915, u'raghu'), (916, u'sindhu'), (917, u'sugitha'), (918, u'sai'), (919, u'sindhu'), (920, u'nagaraju'), (921, u'nagaraju'), (922, u'swathi'), (923, u'nagaraju'), (924, u'raghu'), (925, u'kavya'), (926, u'ravi duda'), (927, u'shiva'), (928, u'shiva'), (929, u'swathi'), (930, u'nagaraju'), (931, u'sai'), (932, u'thumu'), (933, u'swathi'), (934, u'theddu'), (935, u'dheeraj'), (936, u'theddu'), (937, u'samba'), (938, u'nagaraju'), (939, u'swathi'), (940, u'sai'), (941, u'sai'), (942, u'ravi duda'), (943, u'theddu'), (944, u'sai'), (945, u'theddu'), (946, u'ravi duda'), (947, u'pragnya'), (948, u'ravi'), (949, u'thumu'), (950, u'ravi'), (951, u'dheeraj'), (952, u'ravi'), (953, u'thumu'), (954, u'swathi'), (955, u'raghu'), (956, u'sugitha'), (957, u'shiva'), (958, u'raghu'), (959, u'sai'), (960, u'sindhu'), (961, u'theddu'), (962, u'sai'), (963, u'theddu'), (964, u'pragnya'), (965, u'swathi'), (966, u'sindhu'), (967, u'kavya'), (968, u'raghu'), (969, u'mani'), (970, u'ravi'), (971, u'sindhu'), (972, u'dheeraj'), (973, u'thumu'), (974, u'sugitha'), (975, u'thumu'), (976, u'thumu'), (977, u'sai'), (978, u'raghu'), (979, u'sai'), (980, u'pragnya'), (981, u'sugitha'), (982, u'shiva'), (983, u'mani'), (984, u'kavya'), (985, u'samba'), (986, u'sindhu'), (987, u'dheeraj'), (988, u'ravi'), (989, u'nagaraju'), (990, u'ravi'), (991, u'mani'), (992, u'kavya'), (993, u'sugitha'), (994, u'nagaraju'), (995, u'ravi'), (996, u'samba'), (997, u'shiva'), (998, u'swathi'), (999, u'samba'), (1, u'ask')]\n"
     ]
    }
   ],
   "source": [
    "print data"
   ]
  },
  {
   "cell_type": "code",
   "execution_count": 21,
   "metadata": {},
   "outputs": [
    {
     "name": "stdout",
     "output_type": "stream",
     "text": [
      "[(56,)]\n"
     ]
    }
   ],
   "source": [
    "names= [\"kavya\",\"sugitha\",\"pragnya\",\"swathi\",\"sindhu\",\"raghu\",\"ravi\",\n",
    "        \"nagaraju\",\"theddu\",\"thumu\",\"mani\",\"samba\",\"ravi duda\",\"shiva\",\"sai\",\n",
    "       \"dheeraj\"]\n",
    "q=\"select count(*) from volume where name='samba'\"\n",
    "cur.execute(q)\n",
    "print cur.fetchall()"
   ]
  },
  {
   "cell_type": "code",
   "execution_count": 22,
   "metadata": {},
   "outputs": [
    {
     "name": "stdout",
     "output_type": "stream",
     "text": [
      "[(29, u'samba'), (50, u'samba'), (51, u'samba'), (60, u'samba'), (78, u'samba'), (119, u'samba'), (134, u'samba'), (147, u'samba'), (159, u'samba'), (163, u'samba'), (191, u'samba'), (229, u'samba'), (274, u'samba'), (280, u'samba'), (297, u'samba'), (315, u'samba'), (333, u'samba'), (363, u'samba'), (372, u'samba'), (376, u'samba'), (377, u'samba'), (388, u'samba'), (389, u'samba'), (406, u'samba'), (427, u'samba'), (429, u'samba'), (476, u'samba'), (495, u'samba'), (507, u'samba'), (515, u'samba'), (537, u'samba'), (576, u'samba'), (582, u'samba'), (584, u'samba'), (585, u'samba'), (626, u'samba'), (637, u'samba'), (655, u'samba'), (697, u'samba'), (730, u'samba'), (734, u'samba'), (738, u'samba'), (759, u'samba'), (777, u'samba'), (827, u'samba'), (834, u'samba'), (845, u'samba'), (859, u'samba'), (862, u'samba'), (863, u'samba'), (866, u'samba'), (889, u'samba'), (937, u'samba'), (985, u'samba'), (996, u'samba'), (999, u'samba')]\n"
     ]
    }
   ],
   "source": [
    "q=\"select * from volume where name='samba'\"\n",
    "cur.execute(q)\n",
    "print cur.fetchall()"
   ]
  },
  {
   "cell_type": "code",
   "execution_count": 24,
   "metadata": {},
   "outputs": [
    {
     "name": "stdout",
     "output_type": "stream",
     "text": [
      "kavya [(65,)]\n",
      "sugitha [(52,)]\n",
      "pragnya [(72,)]\n",
      "swathi [(67,)]\n",
      "sindhu [(56,)]\n",
      "raghu [(66,)]\n",
      "ravi [(50,)]\n",
      "nagaraju [(67,)]\n",
      "theddu [(65,)]\n",
      "thumu [(69,)]\n",
      "mani [(60,)]\n",
      "samba [(56,)]\n",
      "ravi duda [(53,)]\n",
      "shiva [(58,)]\n",
      "sai [(62,)]\n",
      "dheeraj [(79,)]\n"
     ]
    }
   ],
   "source": [
    "names= [\"kavya\",\"sugitha\",\"pragnya\",\"swathi\",\"sindhu\",\"raghu\",\"ravi\",\n",
    "        \"nagaraju\",\"theddu\",\"thumu\",\"mani\",\"samba\",\"ravi duda\",\"shiva\",\"sai\",\n",
    "       \"dheeraj\"]\n",
    "for name in names:\n",
    "    q=\"select count(*) from volume where name='%s'\"%name\n",
    "    cur.execute(q)\n",
    "    print name, cur.fetchall()"
   ]
  },
  {
   "cell_type": "code",
   "execution_count": 28,
   "metadata": {},
   "outputs": [
    {
     "name": "stdout",
     "output_type": "stream",
     "text": [
      "{'sai': 62, 'nagaraju': 67, 'sindhu': 56, 'dheeraj': 79, 'theddu': 65, 'swathi': 67, 'shiva': 58, 'ravi duda': 53, 'thumu': 69, 'samba': 56, 'ravi': 50, 'pragnya': 72, 'mani': 60, 'raghu': 66, 'sugitha': 52, 'kavya': 65}\n"
     ]
    }
   ],
   "source": [
    "names= [\"kavya\",\"sugitha\",\"pragnya\",\"swathi\",\"sindhu\",\"raghu\",\"ravi\",\n",
    "        \"nagaraju\",\"theddu\",\"thumu\",\"mani\",\"samba\",\"ravi duda\",\"shiva\",\"sai\",\n",
    "       \"dheeraj\"]\n",
    "res = {}\n",
    "for name in names:\n",
    "    q=\"select count(*) from volume where name='%s'\"%name\n",
    "    cur.execute(q)\n",
    "    res.update({name: cur.fetchone()[0]})\n",
    "print res\n",
    "    "
   ]
  },
  {
   "cell_type": "code",
   "execution_count": 30,
   "metadata": {},
   "outputs": [
    {
     "name": "stdout",
     "output_type": "stream",
     "text": [
      "[('kavya', 65), ('sugitha', 52), ('pragnya', 72), ('swathi', 67), ('sindhu', 56), ('raghu', 66), ('ravi', 50), ('nagaraju', 67), ('theddu', 65), ('thumu', 69), ('mani', 60), ('samba', 56), ('ravi duda', 53), ('shiva', 58), ('sai', 62), ('dheeraj', 79)]\n"
     ]
    }
   ],
   "source": [
    "names= [\"kavya\",\"sugitha\",\"pragnya\",\"swathi\",\"sindhu\",\"raghu\",\"ravi\",\n",
    "        \"nagaraju\",\"theddu\",\"thumu\",\"mani\",\"samba\",\"ravi duda\",\"shiva\",\"sai\",\n",
    "       \"dheeraj\"]\n",
    "res = []\n",
    "for name in names:\n",
    "    q=\"select count(*) from volume where name='%s'\"%name\n",
    "    cur.execute(q)\n",
    "    res.append((name, cur.fetchone()[0]))\n",
    "print res\n",
    "    "
   ]
  },
  {
   "cell_type": "code",
   "execution_count": 31,
   "metadata": {},
   "outputs": [
    {
     "name": "stdout",
     "output_type": "stream",
     "text": [
      "[('dheeraj', 79), ('kavya', 65), ('mani', 60), ('nagaraju', 67), ('pragnya', 72), ('raghu', 66), ('ravi', 50), ('ravi duda', 53), ('sai', 62), ('samba', 56), ('shiva', 58), ('sindhu', 56), ('sugitha', 52), ('swathi', 67), ('theddu', 65), ('thumu', 69)]\n"
     ]
    }
   ],
   "source": [
    "names= [\"kavya\",\"sugitha\",\"pragnya\",\"swathi\",\"sindhu\",\"raghu\",\"ravi\",\n",
    "        \"nagaraju\",\"theddu\",\"thumu\",\"mani\",\"samba\",\"ravi duda\",\"shiva\",\"sai\",\n",
    "       \"dheeraj\"]\n",
    "res = []\n",
    "for name in names:\n",
    "    q=\"select count(*) from volume where name='%s'\"%name\n",
    "    cur.execute(q)\n",
    "    res.append((name, cur.fetchone()[0]))\n",
    "res.sort()\n",
    "print res"
   ]
  },
  {
   "cell_type": "code",
   "execution_count": 32,
   "metadata": {},
   "outputs": [
    {
     "name": "stdout",
     "output_type": "stream",
     "text": [
      "[(50, 'ravi'), (52, 'sugitha'), (53, 'ravi duda'), (56, 'samba'), (56, 'sindhu'), (58, 'shiva'), (60, 'mani'), (62, 'sai'), (65, 'kavya'), (65, 'theddu'), (66, 'raghu'), (67, 'nagaraju'), (67, 'swathi'), (69, 'thumu'), (72, 'pragnya'), (79, 'dheeraj')]\n"
     ]
    }
   ],
   "source": [
    "names= [\"kavya\",\"sugitha\",\"pragnya\",\"swathi\",\"sindhu\",\"raghu\",\"ravi\",\n",
    "        \"nagaraju\",\"theddu\",\"thumu\",\"mani\",\"samba\",\"ravi duda\",\"shiva\",\"sai\",\n",
    "       \"dheeraj\"]\n",
    "res = []\n",
    "for name in names:\n",
    "    q=\"select count(*) from volume where name='%s'\"%name\n",
    "    cur.execute(q)\n",
    "    res.append((cur.fetchone()[0],name))\n",
    "res.sort()\n",
    "print res"
   ]
  },
  {
   "cell_type": "code",
   "execution_count": 34,
   "metadata": {},
   "outputs": [
    {
     "name": "stdout",
     "output_type": "stream",
     "text": [
      "[('ravi', 50), ('sugitha', 52), ('ravi duda', 53), ('samba', 56), ('sindhu', 56), ('shiva', 58), ('mani', 60), ('sai', 62), ('theddu', 65), ('kavya', 65), ('raghu', 66), ('nagaraju', 67), ('swathi', 67), ('thumu', 69), ('pragnya', 72), ('dheeraj', 79)]\n"
     ]
    }
   ],
   "source": [
    "names= [\"kavya\",\"sugitha\",\"pragnya\",\"swathi\",\"sindhu\",\"raghu\",\"ravi\",\n",
    "        \"nagaraju\",\"theddu\",\"thumu\",\"mani\",\"samba\",\"ravi duda\",\"shiva\",\"sai\",\n",
    "       \"dheeraj\"]\n",
    "res = []\n",
    "for name in names:\n",
    "    q=\"select count(*) from volume where name='%s'\"%name\n",
    "    cur.execute(q)\n",
    "    res.append((name,cur.fetchone()[0]))\n",
    "def fun(x,y):\n",
    "    if x[1]>y[1]:\n",
    "        return 1\n",
    "    else:\n",
    "        return -1\n",
    "res.sort(cmp=fun)\n",
    "print res"
   ]
  },
  {
   "cell_type": "code",
   "execution_count": 35,
   "metadata": {},
   "outputs": [
    {
     "data": {
      "text/plain": [
       "<sqlite3.Cursor at 0x3039ea0>"
      ]
     },
     "execution_count": 35,
     "metadata": {},
     "output_type": "execute_result"
    }
   ],
   "source": [
    "q=\"delete from volume where name='samba'\"\n",
    "cur.execute(q)"
   ]
  },
  {
   "cell_type": "code",
   "execution_count": 36,
   "metadata": {},
   "outputs": [],
   "source": [
    "con.commit()"
   ]
  },
  {
   "cell_type": "code",
   "execution_count": 38,
   "metadata": {},
   "outputs": [],
   "source": [
    "q=\"update volume set name='Raghvendra' where name='raghu'\"\n",
    "cur.execute(q)\n",
    "con.commit()"
   ]
  },
  {
   "cell_type": "code",
   "execution_count": 39,
   "metadata": {},
   "outputs": [
    {
     "data": {
      "text/plain": [
       "<sqlite3.Cursor at 0x3039ea0>"
      ]
     },
     "execution_count": 39,
     "metadata": {},
     "output_type": "execute_result"
    }
   ],
   "source": [
    "q=\"insert into volume values(1, 'jay')\"\n",
    "cur.execute(q)"
   ]
  },
  {
   "cell_type": "code",
   "execution_count": 40,
   "metadata": {},
   "outputs": [
    {
     "data": {
      "text/plain": [
       "<sqlite3.Cursor at 0x3039ea0>"
      ]
     },
     "execution_count": 40,
     "metadata": {},
     "output_type": "execute_result"
    }
   ],
   "source": [
    "q=\"select * from volume\"\n",
    "cur.execute(q)"
   ]
  },
  {
   "cell_type": "code",
   "execution_count": 41,
   "metadata": {},
   "outputs": [
    {
     "data": {
      "text/plain": [
       "[(1, u'jay')]"
      ]
     },
     "execution_count": 41,
     "metadata": {},
     "output_type": "execute_result"
    }
   ],
   "source": [
    "cur.fetchall()"
   ]
  },
  {
   "cell_type": "code",
   "execution_count": 42,
   "metadata": {},
   "outputs": [
    {
     "data": {
      "text/plain": [
       "<sqlite3.Cursor at 0x3039ea0>"
      ]
     },
     "execution_count": 42,
     "metadata": {},
     "output_type": "execute_result"
    }
   ],
   "source": [
    "q=\"select * from volume\"\n",
    "cur.execute(q)"
   ]
  },
  {
   "cell_type": "code",
   "execution_count": 43,
   "metadata": {},
   "outputs": [
    {
     "data": {
      "text/plain": [
       "<sqlite3.Cursor at 0x3039ea0>"
      ]
     },
     "execution_count": 43,
     "metadata": {},
     "output_type": "execute_result"
    }
   ],
   "source": [
    "cur.execute(\"insert into volume values(2,'vedha')\")\n"
   ]
  },
  {
   "cell_type": "code",
   "execution_count": 44,
   "metadata": {},
   "outputs": [
    {
     "data": {
      "text/plain": [
       "[]"
      ]
     },
     "execution_count": 44,
     "metadata": {},
     "output_type": "execute_result"
    }
   ],
   "source": [
    "cur.fetchall()"
   ]
  },
  {
   "cell_type": "code",
   "execution_count": null,
   "metadata": {},
   "outputs": [],
   "source": []
  }
 ],
 "metadata": {
  "kernelspec": {
   "display_name": "Python 2",
   "language": "python",
   "name": "python2"
  },
  "language_info": {
   "codemirror_mode": {
    "name": "ipython",
    "version": 2
   },
   "file_extension": ".py",
   "mimetype": "text/x-python",
   "name": "python",
   "nbconvert_exporter": "python",
   "pygments_lexer": "ipython2",
   "version": "2.7.15"
  }
 },
 "nbformat": 4,
 "nbformat_minor": 2
}
