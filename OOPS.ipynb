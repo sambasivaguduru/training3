{
 "cells": [
  {
   "cell_type": "code",
   "execution_count": 1,
   "metadata": {},
   "outputs": [
    {
     "name": "stdout",
     "output_type": "stream",
     "text": [
      "this is class\n"
     ]
    }
   ],
   "source": [
    "def fun():\n",
    "    print \"this is fun\"\n",
    "class c1:\n",
    "    print \"this is class\""
   ]
  },
  {
   "cell_type": "code",
   "execution_count": 2,
   "metadata": {},
   "outputs": [
    {
     "name": "stdout",
     "output_type": "stream",
     "text": [
      "this is class\n"
     ]
    }
   ],
   "source": [
    "def fun():\n",
    "    print \"this is fun\"\n",
    "class c1:\n",
    "    print \"this is class\"\n",
    "    def fun1(a):\n",
    "        print \"this is fun1 in class\""
   ]
  },
  {
   "cell_type": "code",
   "execution_count": 3,
   "metadata": {},
   "outputs": [
    {
     "name": "stdout",
     "output_type": "stream",
     "text": [
      "vol1\n",
      "20\n",
      "aggr1\n"
     ]
    }
   ],
   "source": [
    "class Volume:\n",
    "    name=\"vol1\"\n",
    "    size_mb=20\n",
    "    aggregate=\"aggr1\"\n",
    "    def exapnd(a):\n",
    "        print \"this is fun1 in class\"\n",
    "    print name\n",
    "    print size_mb\n",
    "    print aggregate\n",
    "    "
   ]
  },
  {
   "cell_type": "code",
   "execution_count": 4,
   "metadata": {},
   "outputs": [
    {
     "ename": "NameError",
     "evalue": "name 'name' is not defined",
     "output_type": "error",
     "traceback": [
      "\u001b[1;31m--------------------------------------------------------------\u001b[0m",
      "\u001b[1;31mNameError\u001b[0m                    Traceback (most recent call last)",
      "\u001b[1;32m<ipython-input-4-c7d44b8288af>\u001b[0m in \u001b[0;36m<module>\u001b[1;34m()\u001b[0m\n\u001b[0;32m      5\u001b[0m     \u001b[1;32mdef\u001b[0m \u001b[0mexapnd\u001b[0m\u001b[1;33m(\u001b[0m\u001b[0ma\u001b[0m\u001b[1;33m)\u001b[0m\u001b[1;33m:\u001b[0m\u001b[1;33m\u001b[0m\u001b[0m\n\u001b[0;32m      6\u001b[0m         \u001b[1;32mprint\u001b[0m \u001b[1;34m\"this is fun1 in class\"\u001b[0m\u001b[1;33m\u001b[0m\u001b[0m\n\u001b[1;32m----> 7\u001b[1;33m \u001b[1;32mprint\u001b[0m \u001b[0mname\u001b[0m\u001b[1;33m\u001b[0m\u001b[0m\n\u001b[0m\u001b[0;32m      8\u001b[0m \u001b[1;32mprint\u001b[0m \u001b[0msize_mb\u001b[0m\u001b[1;33m\u001b[0m\u001b[0m\n\u001b[0;32m      9\u001b[0m \u001b[1;32mprint\u001b[0m \u001b[0maggregate\u001b[0m\u001b[1;33m\u001b[0m\u001b[0m\n",
      "\u001b[1;31mNameError\u001b[0m: name 'name' is not defined"
     ]
    }
   ],
   "source": [
    "class Volume:\n",
    "    name=\"vol1\"\n",
    "    size_mb=20\n",
    "    aggregate=\"aggr1\"\n",
    "    def exapnd(a):\n",
    "        print \"this is fun1 in class\"\n",
    "print name\n",
    "print size_mb\n",
    "print aggregate\n",
    "    "
   ]
  },
  {
   "cell_type": "code",
   "execution_count": 5,
   "metadata": {},
   "outputs": [
    {
     "name": "stdout",
     "output_type": "stream",
     "text": [
      "vol1\n",
      "20\n",
      "aggr1\n"
     ]
    }
   ],
   "source": [
    "class Volume:\n",
    "    name=\"vol1\"\n",
    "    size_mb=20\n",
    "    aggregate=\"aggr1\"\n",
    "    def expand(a):\n",
    "        print \"this is fun1 in class\"\n",
    "print Volume.name\n",
    "print Volume.size_mb\n",
    "print Volume.aggregate\n",
    "    "
   ]
  },
  {
   "cell_type": "code",
   "execution_count": 6,
   "metadata": {},
   "outputs": [
    {
     "name": "stdout",
     "output_type": "stream",
     "text": [
      "vol1\n",
      "20\n",
      "aggr1\n"
     ]
    },
    {
     "ename": "TypeError",
     "evalue": "unbound method expand() must be called with Volume instance as first argument (got int instance instead)",
     "output_type": "error",
     "traceback": [
      "\u001b[1;31m--------------------------------------------------------------\u001b[0m",
      "\u001b[1;31mTypeError\u001b[0m                    Traceback (most recent call last)",
      "\u001b[1;32m<ipython-input-6-b096a2b3130f>\u001b[0m in \u001b[0;36m<module>\u001b[1;34m()\u001b[0m\n\u001b[0;32m      8\u001b[0m \u001b[1;32mprint\u001b[0m \u001b[0mVolume\u001b[0m\u001b[1;33m.\u001b[0m\u001b[0msize_mb\u001b[0m\u001b[1;33m\u001b[0m\u001b[0m\n\u001b[0;32m      9\u001b[0m \u001b[1;32mprint\u001b[0m \u001b[0mVolume\u001b[0m\u001b[1;33m.\u001b[0m\u001b[0maggregate\u001b[0m\u001b[1;33m\u001b[0m\u001b[0m\n\u001b[1;32m---> 10\u001b[1;33m \u001b[1;32mprint\u001b[0m \u001b[0mVolume\u001b[0m\u001b[1;33m.\u001b[0m\u001b[0mexpand\u001b[0m\u001b[1;33m(\u001b[0m\u001b[1;36m20\u001b[0m\u001b[1;33m)\u001b[0m\u001b[1;33m\u001b[0m\u001b[0m\n\u001b[0m",
      "\u001b[1;31mTypeError\u001b[0m: unbound method expand() must be called with Volume instance as first argument (got int instance instead)"
     ]
    }
   ],
   "source": [
    "class Volume:\n",
    "    name=\"vol1\"\n",
    "    size_mb=20\n",
    "    aggregate=\"aggr1\"\n",
    "    def expand(a):\n",
    "        print \"this is fun1 in class\"\n",
    "print Volume.name\n",
    "print Volume.size_mb\n",
    "print Volume.aggregate\n",
    "print Volume.expand(20)"
   ]
  },
  {
   "cell_type": "code",
   "execution_count": 8,
   "metadata": {},
   "outputs": [
    {
     "name": "stdout",
     "output_type": "stream",
     "text": [
      "vol1\n",
      "20\n",
      "aggr1\n"
     ]
    },
    {
     "ename": "TypeError",
     "evalue": "unbound method expand() must be called with Volume instance as first argument (got classobj instance instead)",
     "output_type": "error",
     "traceback": [
      "\u001b[1;31m--------------------------------------------------------------\u001b[0m",
      "\u001b[1;31mTypeError\u001b[0m                    Traceback (most recent call last)",
      "\u001b[1;32m<ipython-input-8-899a7dd5850d>\u001b[0m in \u001b[0;36m<module>\u001b[1;34m()\u001b[0m\n\u001b[0;32m      8\u001b[0m \u001b[1;32mprint\u001b[0m \u001b[0mVolume\u001b[0m\u001b[1;33m.\u001b[0m\u001b[0msize_mb\u001b[0m\u001b[1;33m\u001b[0m\u001b[0m\n\u001b[0;32m      9\u001b[0m \u001b[1;32mprint\u001b[0m \u001b[0mVolume\u001b[0m\u001b[1;33m.\u001b[0m\u001b[0maggregate\u001b[0m\u001b[1;33m\u001b[0m\u001b[0m\n\u001b[1;32m---> 10\u001b[1;33m \u001b[1;32mprint\u001b[0m \u001b[0mVolume\u001b[0m\u001b[1;33m.\u001b[0m\u001b[0mexpand\u001b[0m\u001b[1;33m(\u001b[0m\u001b[0mVolume\u001b[0m\u001b[1;33m,\u001b[0m\u001b[1;36m20\u001b[0m\u001b[1;33m)\u001b[0m\u001b[1;33m\u001b[0m\u001b[0m\n\u001b[0m",
      "\u001b[1;31mTypeError\u001b[0m: unbound method expand() must be called with Volume instance as first argument (got classobj instance instead)"
     ]
    }
   ],
   "source": [
    "class Volume:\n",
    "    name=\"vol1\"\n",
    "    size_mb=20\n",
    "    aggregate=\"aggr1\"\n",
    "    def expand(a):\n",
    "        print \"this is fun1 in class\"\n",
    "print Volume.name\n",
    "print Volume.size_mb\n",
    "print Volume.aggregate\n",
    "print Volume.expand(Volume,20)"
   ]
  },
  {
   "cell_type": "code",
   "execution_count": 9,
   "metadata": {},
   "outputs": [],
   "source": [
    "a=20"
   ]
  },
  {
   "cell_type": "code",
   "execution_count": 10,
   "metadata": {},
   "outputs": [
    {
     "data": {
      "text/plain": [
       "int"
      ]
     },
     "execution_count": 10,
     "metadata": {},
     "output_type": "execute_result"
    }
   ],
   "source": [
    "int"
   ]
  },
  {
   "cell_type": "code",
   "execution_count": 11,
   "metadata": {},
   "outputs": [],
   "source": [
    "s=\"fdsds\""
   ]
  },
  {
   "cell_type": "code",
   "execution_count": 12,
   "metadata": {},
   "outputs": [
    {
     "name": "stdout",
     "output_type": "stream",
     "text": [
      "vol1\n",
      "20\n",
      "aggr1\n",
      "this is fun1 in class\n",
      "None\n"
     ]
    }
   ],
   "source": [
    "class Volume:\n",
    "    name=\"vol1\"\n",
    "    size_mb=20\n",
    "    aggregate=\"aggr1\"\n",
    "    def expand(a):\n",
    "        print \"this is fun1 in class\"\n",
    "print Volume.name\n",
    "print Volume.size_mb\n",
    "print Volume.aggregate\n",
    "v1 = Volume()\n",
    "print Volume.expand(v1)"
   ]
  },
  {
   "cell_type": "code",
   "execution_count": 1,
   "metadata": {},
   "outputs": [
    {
     "name": "stdout",
     "output_type": "stream",
     "text": [
      "c="
     ]
    },
    {
     "ename": "NameError",
     "evalue": "name 'c' is not defined",
     "output_type": "error",
     "traceback": [
      "\u001b[1;31m----------------------------------------------------------------\u001b[0m",
      "\u001b[1;31mNameError\u001b[0m                      Traceback (most recent call last)",
      "\u001b[1;32m<ipython-input-1-7e9f92311b91>\u001b[0m in \u001b[0;36m<module>\u001b[1;34m()\u001b[0m\n\u001b[0;32m      2\u001b[0m     \u001b[0mc\u001b[0m\u001b[1;33m=\u001b[0m\u001b[0ma\u001b[0m\u001b[1;33m+\u001b[0m\u001b[0mb\u001b[0m\u001b[1;33m\u001b[0m\u001b[0m\n\u001b[0;32m      3\u001b[0m \u001b[0mfun\u001b[0m\u001b[1;33m(\u001b[0m\u001b[1;36m10\u001b[0m\u001b[1;33m,\u001b[0m\u001b[1;36m20\u001b[0m\u001b[1;33m)\u001b[0m\u001b[1;33m\u001b[0m\u001b[0m\n\u001b[1;32m----> 4\u001b[1;33m \u001b[1;32mprint\u001b[0m \u001b[1;34m\"c=\"\u001b[0m\u001b[1;33m,\u001b[0m\u001b[0mc\u001b[0m\u001b[1;33m\u001b[0m\u001b[0m\n\u001b[0m",
      "\u001b[1;31mNameError\u001b[0m: name 'c' is not defined"
     ]
    }
   ],
   "source": [
    "def fun(a,b):\n",
    "    c=a+b\n",
    "fun(10,20)\n",
    "print \"c=\",c"
   ]
  },
  {
   "cell_type": "code",
   "execution_count": 2,
   "metadata": {},
   "outputs": [
    {
     "ename": "NameError",
     "evalue": "name 'd' is not defined",
     "output_type": "error",
     "traceback": [
      "\u001b[1;31m----------------------------------------------------------------\u001b[0m",
      "\u001b[1;31mNameError\u001b[0m                      Traceback (most recent call last)",
      "\u001b[1;32m<ipython-input-2-98289b82046a>\u001b[0m in \u001b[0;36m<module>\u001b[1;34m()\u001b[0m\n\u001b[1;32m----> 1\u001b[1;33m \u001b[1;32mprint\u001b[0m \u001b[0md\u001b[0m\u001b[1;33m\u001b[0m\u001b[0m\n\u001b[0m",
      "\u001b[1;31mNameError\u001b[0m: name 'd' is not defined"
     ]
    }
   ],
   "source": [
    "print d"
   ]
  },
  {
   "cell_type": "code",
   "execution_count": 3,
   "metadata": {},
   "outputs": [
    {
     "name": "stdout",
     "output_type": "stream",
     "text": [
      " c="
     ]
    },
    {
     "ename": "NameError",
     "evalue": "name 'c' is not defined",
     "output_type": "error",
     "traceback": [
      "\u001b[1;31m----------------------------------------------------------------\u001b[0m",
      "\u001b[1;31mNameError\u001b[0m                      Traceback (most recent call last)",
      "\u001b[1;32m<ipython-input-3-b8fe97066804>\u001b[0m in \u001b[0;36m<module>\u001b[1;34m()\u001b[0m\n\u001b[0;32m      5\u001b[0m     \u001b[0mf\u001b[0m\u001b[1;33m=\u001b[0m\u001b[0ma\u001b[0m\u001b[1;33m/\u001b[0m\u001b[0mb\u001b[0m\u001b[1;33m\u001b[0m\u001b[0m\n\u001b[0;32m      6\u001b[0m \u001b[0mfun\u001b[0m\u001b[1;33m(\u001b[0m\u001b[1;36m10\u001b[0m\u001b[1;33m,\u001b[0m\u001b[1;36m20\u001b[0m\u001b[1;33m)\u001b[0m\u001b[1;33m\u001b[0m\u001b[0m\n\u001b[1;32m----> 7\u001b[1;33m \u001b[1;32mprint\u001b[0m \u001b[1;34m\"c=\"\u001b[0m\u001b[1;33m,\u001b[0m\u001b[0mc\u001b[0m\u001b[1;33m\u001b[0m\u001b[0m\n\u001b[0m\u001b[0;32m      8\u001b[0m \u001b[1;32mprint\u001b[0m \u001b[1;34m\"a=\"\u001b[0m\u001b[1;33m,\u001b[0m\u001b[0ma\u001b[0m\u001b[1;33m,\u001b[0m\u001b[1;34m\"b=\"\u001b[0m\u001b[1;33m,\u001b[0m\u001b[0mb\u001b[0m\u001b[1;33m\u001b[0m\u001b[0m\n",
      "\u001b[1;31mNameError\u001b[0m: name 'c' is not defined"
     ]
    }
   ],
   "source": [
    "def fun(a,b):\n",
    "    c=a+b\n",
    "    e=a-b\n",
    "    d=a*b\n",
    "    f=a/b\n",
    "fun(10,20)\n",
    "print \"c=\",c\n",
    "print \"a=\",a,\"b=\",b"
   ]
  },
  {
   "cell_type": "code",
   "execution_count": 4,
   "metadata": {},
   "outputs": [
    {
     "name": "stdout",
     "output_type": "stream",
     "text": [
      " <function fun at 0x02EE64F0>\n",
      "49177840\n",
      "<type 'function'>\n"
     ]
    }
   ],
   "source": [
    "def fun(a,b):\n",
    "    c=a+b\n",
    "    e=a-b\n",
    "    d=a*b\n",
    "    f=a/b\n",
    "print fun\n",
    "print id(fun)\n",
    "print type(fun)"
   ]
  },
  {
   "cell_type": "code",
   "execution_count": 5,
   "metadata": {},
   "outputs": [
    {
     "name": "stdout",
     "output_type": "stream",
     "text": [
      "1000 2000\n"
     ]
    },
    {
     "data": {
      "text/plain": [
       "'\\na=1000\\nb=2000\\n\\na=c1\\nb=c2\\n'"
      ]
     },
     "execution_count": 5,
     "metadata": {},
     "output_type": "execute_result"
    }
   ],
   "source": [
    "c1=1000\n",
    "c2=2000\n",
    "def fun(a,b):\n",
    "    print a,b\n",
    "fun(c1,c2)\n",
    "\"\"\"\n",
    "a=1000\n",
    "b=2000\n",
    "\n",
    "a=c1\n",
    "b=c2\n",
    "\"\"\""
   ]
  },
  {
   "cell_type": "code",
   "execution_count": 6,
   "metadata": {},
   "outputs": [
    {
     "name": "stdout",
     "output_type": "stream",
     "text": [
      "[10, 20, 30, 40, 1000]\n"
     ]
    }
   ],
   "source": [
    "l=[10,20,30,40]\n",
    "def fun(l1):\n",
    "    l1.append(1000)\n",
    "fun(l)\n",
    "print l"
   ]
  },
  {
   "cell_type": "code",
   "execution_count": 7,
   "metadata": {},
   "outputs": [
    {
     "name": "stdout",
     "output_type": "stream",
     "text": [
      "10 20\n",
      "None\n"
     ]
    }
   ],
   "source": [
    "def fun(a,b):\n",
    "    print a,b\n",
    "f=fun\n",
    "print f(10,20)"
   ]
  },
  {
   "cell_type": "code",
   "execution_count": 8,
   "metadata": {},
   "outputs": [
    {
     "name": "stdout",
     "output_type": "stream",
     "text": [
      "calling fun1\n",
      "fun1\n",
      "fun\n",
      "100 20\n",
      "None\n",
      "None\n"
     ]
    }
   ],
   "source": [
    "def fun1(f1,a,b):\n",
    "    print \"fun1\"\n",
    "    print f1(a,b)\n",
    "def fun(c1,c2):\n",
    "    print \"fun\"\n",
    "    print c1,c2\n",
    "print \"calling fun1\"\n",
    "print fun1(fun,100,20)"
   ]
  },
  {
   "cell_type": "code",
   "execution_count": 10,
   "metadata": {},
   "outputs": [
    {
     "name": "stdout",
     "output_type": "stream",
     "text": [
      "<__main__.Volume instance at 0x04507C10> 200\n"
     ]
    }
   ],
   "source": [
    "class Volume:\n",
    "    name=\"vol1\"\n",
    "    size_mb=20\n",
    "    aggregate=\"agr1\"\n",
    "    def extend(a,extend_size):\n",
    "        print a, extend_size\n",
    "v1=Volume()\n",
    "Volume.extend(v1,200)\n",
    "p\n"
   ]
  },
  {
   "cell_type": "code",
   "execution_count": 11,
   "metadata": {},
   "outputs": [
    {
     "name": "stdout",
     "output_type": "stream",
     "text": [
      "<__main__.Volume instance at 0x04507B20> 200\n",
      "vol1\n",
      "20\n",
      "agr1\n"
     ]
    }
   ],
   "source": [
    "class Volume:\n",
    "    name=\"vol1\"\n",
    "    size_mb=20\n",
    "    aggregate=\"agr1\"\n",
    "    def extend(a,extend_size):\n",
    "        print a, extend_size\n",
    "v1=Volume()\n",
    "Volume.extend(v1,200)\n",
    "print v1.name\n",
    "print v1.size_mb\n",
    "print v1.aggregate"
   ]
  },
  {
   "cell_type": "code",
   "execution_count": 12,
   "metadata": {},
   "outputs": [
    {
     "name": "stdout",
     "output_type": "stream",
     "text": [
      "<__main__.Volume instance at 0x04507C60> 200\n",
      "vol1\n",
      "20\n",
      "agr1\n",
      "<__main__.Volume instance at 0x04507C60> 200\n"
     ]
    }
   ],
   "source": [
    "class Volume:\n",
    "    name=\"vol1\"\n",
    "    size_mb=20\n",
    "    aggregate=\"agr1\"\n",
    "    def extend(a,extend_size):\n",
    "        print a, extend_size\n",
    "v1=Volume()\n",
    "Volume.extend(v1,200)\n",
    "print v1.name\n",
    "print v1.size_mb\n",
    "print v1.aggregate\n",
    "v1.extend(200)"
   ]
  },
  {
   "cell_type": "code",
   "execution_count": 13,
   "metadata": {},
   "outputs": [
    {
     "name": "stdout",
     "output_type": "stream",
     "text": [
      "<__main__.Volume instance at 0x045152D8> 200\n",
      "vol1\n",
      "20\n",
      "agr1\n"
     ]
    },
    {
     "ename": "TypeError",
     "evalue": "extend() takes exactly 2 arguments (3 given)",
     "output_type": "error",
     "traceback": [
      "\u001b[1;31m----------------------------------------------------------------\u001b[0m",
      "\u001b[1;31mTypeError\u001b[0m                      Traceback (most recent call last)",
      "\u001b[1;32m<ipython-input-13-4d3ec1c6e2f4>\u001b[0m in \u001b[0;36m<module>\u001b[1;34m()\u001b[0m\n\u001b[0;32m     10\u001b[0m \u001b[1;32mprint\u001b[0m \u001b[0mv1\u001b[0m\u001b[1;33m.\u001b[0m\u001b[0msize_mb\u001b[0m\u001b[1;33m\u001b[0m\u001b[0m\n\u001b[0;32m     11\u001b[0m \u001b[1;32mprint\u001b[0m \u001b[0mv1\u001b[0m\u001b[1;33m.\u001b[0m\u001b[0maggregate\u001b[0m\u001b[1;33m\u001b[0m\u001b[0m\n\u001b[1;32m---> 12\u001b[1;33m \u001b[0mv1\u001b[0m\u001b[1;33m.\u001b[0m\u001b[0mextend\u001b[0m\u001b[1;33m(\u001b[0m\u001b[0mv1\u001b[0m\u001b[1;33m,\u001b[0m \u001b[1;36m200\u001b[0m\u001b[1;33m)\u001b[0m\u001b[1;33m\u001b[0m\u001b[0m\n\u001b[0m",
      "\u001b[1;31mTypeError\u001b[0m: extend() takes exactly 2 arguments (3 given)"
     ]
    }
   ],
   "source": [
    "class Volume:\n",
    "    name=\"vol1\"\n",
    "    size_mb=20\n",
    "    aggregate=\"agr1\"\n",
    "    def extend(a,extend_size):\n",
    "        print a, extend_size\n",
    "v1=Volume()\n",
    "Volume.extend(v1,200)\n",
    "print v1.name\n",
    "print v1.size_mb\n",
    "print v1.aggregate\n",
    "v1.extend(v1, 200)"
   ]
  },
  {
   "cell_type": "code",
   "execution_count": 14,
   "metadata": {},
   "outputs": [
    {
     "ename": "AttributeError",
     "evalue": "Volume instance has no attribute 'aggregate'",
     "output_type": "error",
     "traceback": [
      "\u001b[1;31m----------------------------------------------------------------\u001b[0m",
      "\u001b[1;31mAttributeError\u001b[0m                 Traceback (most recent call last)",
      "\u001b[1;32m<ipython-input-14-c936ec45df06>\u001b[0m in \u001b[0;36m<module>\u001b[1;34m()\u001b[0m\n\u001b[0;32m     10\u001b[0m \u001b[0mv3\u001b[0m\u001b[1;33m.\u001b[0m\u001b[0msize_mb\u001b[0m\u001b[1;33m=\u001b[0m\u001b[1;36m200\u001b[0m\u001b[1;33m\u001b[0m\u001b[0m\n\u001b[0;32m     11\u001b[0m \u001b[0mv4\u001b[0m\u001b[1;33m.\u001b[0m\u001b[0maggregate\u001b[0m\u001b[1;33m=\u001b[0m\u001b[1;34m\"aggr1\"\u001b[0m\u001b[1;33m\u001b[0m\u001b[0m\n\u001b[1;32m---> 12\u001b[1;33m \u001b[1;32mprint\u001b[0m \u001b[0mv1\u001b[0m\u001b[1;33m.\u001b[0m\u001b[0maggregate\u001b[0m\u001b[1;33m\u001b[0m\u001b[0m\n\u001b[0m",
      "\u001b[1;31mAttributeError\u001b[0m: Volume instance has no attribute 'aggregate'"
     ]
    }
   ],
   "source": [
    "class Volume:\n",
    "    def extend(a,extend_size):\n",
    "        print a, extend_size\n",
    "v1=Volume()\n",
    "v2=Volume()\n",
    "v3=Volume()\n",
    "v4=Volume()\n",
    "v1.name=\"vol1\"\n",
    "v2.name=\"vol2\"\n",
    "v3.size_mb=200\n",
    "v4.aggregate=\"aggr1\"\n",
    "print v1.aggregate"
   ]
  },
  {
   "cell_type": "code",
   "execution_count": null,
   "metadata": {},
   "outputs": [],
   "source": [
    "# closure\n",
    "def outer(a):\n",
    "    print \"outer\"\n",
    "    def inner(c,d):\n",
    "        print \"inner\"\n",
    "        print a,c,d\n",
    "        return a+c+d\n",
    "    return inner\n",
    "f=outer(10)\n",
    "print \"f=\",f"
   ]
  },
  {
   "cell_type": "code",
   "execution_count": 1,
   "metadata": {},
   "outputs": [
    {
     "name": "stdout",
     "output_type": "stream",
     "text": [
      "<function fun at 0x02F99EB0>\n"
     ]
    }
   ],
   "source": [
    "def fun(a,b):\n",
    "    print a,b\n",
    "    return a+b\n",
    "print fun"
   ]
  },
  {
   "cell_type": "code",
   "execution_count": 2,
   "metadata": {},
   "outputs": [
    {
     "name": "stdout",
     "output_type": "stream",
     "text": [
      "10 20\n",
      "30\n"
     ]
    }
   ],
   "source": [
    "def fun(a,b):\n",
    "    print a,b\n",
    "    return a+b\n",
    "print fun(10,20)"
   ]
  },
  {
   "cell_type": "code",
   "execution_count": 3,
   "metadata": {},
   "outputs": [
    {
     "name": "stdout",
     "output_type": "stream",
     "text": [
      "f= None\n"
     ]
    }
   ],
   "source": [
    "def fun(a,b):\n",
    "    c=a+b\n",
    "    d=a-b\n",
    "f=fun(10,20)\n",
    "print \"f=\",f"
   ]
  },
  {
   "cell_type": "code",
   "execution_count": 4,
   "metadata": {},
   "outputs": [
    {
     "name": "stdout",
     "output_type": "stream",
     "text": [
      "f= dummy\n"
     ]
    }
   ],
   "source": [
    "def fun(a,b):\n",
    "    c=a+b\n",
    "    d=a-b\n",
    "    e=a*b\n",
    "    f=a/b\n",
    "    return \"dummy\"\n",
    "f=fun(10,20)\n",
    "print \"f=\",f"
   ]
  },
  {
   "cell_type": "code",
   "execution_count": 5,
   "metadata": {},
   "outputs": [
    {
     "name": "stdout",
     "output_type": "stream",
     "text": [
      "f= 30\n"
     ]
    }
   ],
   "source": [
    "def fun(a,b):\n",
    "    c=a+b\n",
    "    d=a-b\n",
    "    e=a*b\n",
    "    f=a/b\n",
    "    return c\n",
    "f=fun(10,20)\n",
    "print \"f=\",f"
   ]
  },
  {
   "cell_type": "code",
   "execution_count": 6,
   "metadata": {},
   "outputs": [
    {
     "name": "stdout",
     "output_type": "stream",
     "text": [
      "outer\n",
      "f= <function inner at 0x0471C0B0>\n"
     ]
    }
   ],
   "source": [
    "# closure\n",
    "def outer(a):\n",
    "    print \"outer\"\n",
    "    def inner(c,d):\n",
    "        print \"inner\"\n",
    "        print a,c,d\n",
    "        return a+c+d\n",
    "    return inner\n",
    "f=outer(10)\n",
    "print \"f=\",f"
   ]
  },
  {
   "cell_type": "code",
   "execution_count": 7,
   "metadata": {},
   "outputs": [
    {
     "name": "stdout",
     "output_type": "stream",
     "text": [
      "outer\n",
      "f= <function inner at 0x0471C070>\n",
      "inner\n",
      "10 10 20\n",
      "res= 40\n"
     ]
    }
   ],
   "source": [
    "# closure\n",
    "def outer(a):\n",
    "    print \"outer\"\n",
    "    def inner(c,d):\n",
    "        print \"inner\"\n",
    "        print a,c,d\n",
    "        return a+c+d\n",
    "    return inner\n",
    "f=outer(10)\n",
    "print \"f=\",f\n",
    "res=f(10,20)\n",
    "print \"res=\",res"
   ]
  },
  {
   "cell_type": "code",
   "execution_count": 8,
   "metadata": {},
   "outputs": [
    {
     "name": "stdout",
     "output_type": "stream",
     "text": [
      "r1= result= 30\n"
     ]
    }
   ],
   "source": [
    "def outer(f1):\n",
    "    def inner(c,d):\n",
    "        res=f1(c,d)\n",
    "        return \"result= %s\" % res\n",
    "    return inner\n",
    "def fun(a,b):\n",
    "    return a+b\n",
    "f2 = outer(fun)\n",
    "r1=f2(10,20)\n",
    "print \"r1=\",r1\n"
   ]
  },
  {
   "cell_type": "code",
   "execution_count": 9,
   "metadata": {},
   "outputs": [
    {
     "name": "stdout",
     "output_type": "stream",
     "text": [
      "r1= 30\n"
     ]
    }
   ],
   "source": [
    "def outer(f1):\n",
    "    def inner(c,d):\n",
    "        res=f1(c,d)\n",
    "        return \"result= %s\" % res\n",
    "    return inner\n",
    "def fun(a,b):\n",
    "    return a+b\n",
    "f2 = outer(fun)\n",
    "r1=fun(10,20)\n",
    "print \"r1=\",r1"
   ]
  },
  {
   "cell_type": "code",
   "execution_count": 10,
   "metadata": {},
   "outputs": [
    {
     "name": "stdout",
     "output_type": "stream",
     "text": [
      "r1= 30\n"
     ]
    }
   ],
   "source": [
    "def outer(f1):\n",
    "    def inner(c,d):\n",
    "        res=f1(c,d)\n",
    "        return \"result= %s\" % res\n",
    "    return inner\n",
    "def fun(a,b):\n",
    "    return a+b\n",
    "r1=fun(10,20)\n",
    "print \"r1=\",r1"
   ]
  },
  {
   "cell_type": "code",
   "execution_count": 11,
   "metadata": {},
   "outputs": [
    {
     "name": "stdout",
     "output_type": "stream",
     "text": [
      "r1= result= 30\n"
     ]
    }
   ],
   "source": [
    "def outer(f1):\n",
    "    def inner(c,d):\n",
    "        res=f1(c,d)\n",
    "        return \"result= %s\" % res\n",
    "    return inner\n",
    "\n",
    "@outer\n",
    "def fun(a,b):\n",
    "    return a+b\n",
    "r1=fun(10,20) # r2=outer(fun), r3=r2(10,20): return r3\n",
    "print \"r1=\",r1"
   ]
  },
  {
   "cell_type": "code",
   "execution_count": 12,
   "metadata": {},
   "outputs": [
    {
     "name": "stdout",
     "output_type": "stream",
     "text": [
      "<__main__.Volume instance at 0x02FACCD8> 20\n"
     ]
    }
   ],
   "source": [
    "class Volume:\n",
    "    def extend(a,extend_size):\n",
    "        print a, extend_size\n",
    "v1=Volume()\n",
    "v1.extend(20)"
   ]
  },
  {
   "cell_type": "code",
   "execution_count": 16,
   "metadata": {},
   "outputs": [
    {
     "name": "stdout",
     "output_type": "stream",
     "text": [
      "Volume= __main__.Volume\n",
      "v1= <__main__.Volume instance at 0x04723CB0>\n",
      "instance\n",
      "<__main__.Volume instance at 0x04723CB0> 20\n",
      "class method\n",
      "__main__.Volume 200\n",
      "static\n",
      "10 20\n"
     ]
    }
   ],
   "source": [
    "class Volume:\n",
    "    def extend(a,extend_size):\n",
    "        print \"instance\"\n",
    "        print a, extend_size\n",
    "        \n",
    "    @staticmethod\n",
    "    def sta1(a,b):\n",
    "        print \"static\"\n",
    "        print a,b\n",
    "    @classmethod\n",
    "    def clm1(a,b):\n",
    "        print \"class method\"\n",
    "        print a,b\n",
    "v1=Volume()\n",
    "print \"Volume=\",Volume\n",
    "print \"v1=\",v1\n",
    "v1.extend(20)\n",
    "v1.clm1(200)\n",
    "v1.sta1(10,20)"
   ]
  },
  {
   "cell_type": "code",
   "execution_count": 18,
   "metadata": {},
   "outputs": [
    {
     "name": "stdout",
     "output_type": "stream",
     "text": [
      "GSS hitech city employee1 2017-08-23\n"
     ]
    }
   ],
   "source": [
    "class Emp:\n",
    "    company_name=\"GSS\"\n",
    "    company_address=\"hitech city\"\n",
    "e1=Emp()\n",
    "e1.name=\"employee1\"\n",
    "e1.doj=\"2017-08-23\"\n",
    "print e1.company_name, e1.company_address, e1.name, e1.doj"
   ]
  },
  {
   "cell_type": "code",
   "execution_count": 19,
   "metadata": {},
   "outputs": [
    {
     "name": "stdout",
     "output_type": "stream",
     "text": [
      "GSS hitech city employee1 2017-08-23\n"
     ]
    },
    {
     "ename": "AttributeError",
     "evalue": "class Emp has no attribute 'name'",
     "output_type": "error",
     "traceback": [
      "\u001b[1;31m----------------------------------------------------------------\u001b[0m",
      "\u001b[1;31mAttributeError\u001b[0m                 Traceback (most recent call last)",
      "\u001b[1;32m<ipython-input-19-93911b973b31>\u001b[0m in \u001b[0;36m<module>\u001b[1;34m()\u001b[0m\n\u001b[0;32m      6\u001b[0m \u001b[0me1\u001b[0m\u001b[1;33m.\u001b[0m\u001b[0mdoj\u001b[0m\u001b[1;33m=\u001b[0m\u001b[1;34m\"2017-08-23\"\u001b[0m\u001b[1;33m\u001b[0m\u001b[0m\n\u001b[0;32m      7\u001b[0m \u001b[1;32mprint\u001b[0m \u001b[0me1\u001b[0m\u001b[1;33m.\u001b[0m\u001b[0mcompany_name\u001b[0m\u001b[1;33m,\u001b[0m \u001b[0me1\u001b[0m\u001b[1;33m.\u001b[0m\u001b[0mcompany_address\u001b[0m\u001b[1;33m,\u001b[0m \u001b[0me1\u001b[0m\u001b[1;33m.\u001b[0m\u001b[0mname\u001b[0m\u001b[1;33m,\u001b[0m \u001b[0me1\u001b[0m\u001b[1;33m.\u001b[0m\u001b[0mdoj\u001b[0m\u001b[1;33m\u001b[0m\u001b[0m\n\u001b[1;32m----> 8\u001b[1;33m \u001b[1;32mprint\u001b[0m \u001b[0mEmp\u001b[0m\u001b[1;33m.\u001b[0m\u001b[0mname\u001b[0m\u001b[1;33m\u001b[0m\u001b[0m\n\u001b[0m",
      "\u001b[1;31mAttributeError\u001b[0m: class Emp has no attribute 'name'"
     ]
    }
   ],
   "source": [
    "class Emp:\n",
    "    company_name=\"GSS\"\n",
    "    company_address=\"hitech city\"\n",
    "e1=Emp()\n",
    "e1.name=\"employee1\"\n",
    "e1.doj=\"2017-08-23\"\n",
    "print e1.company_name, e1.company_address, e1.name, e1.doj\n",
    "print Emp.name"
   ]
  },
  {
   "cell_type": "code",
   "execution_count": 20,
   "metadata": {},
   "outputs": [
    {
     "name": "stdout",
     "output_type": "stream",
     "text": [
      "GSS hitech city employee1 2017-08-23\n",
      "hitech city GSS\n"
     ]
    }
   ],
   "source": [
    "class Emp:\n",
    "    company_name=\"GSS\"\n",
    "    company_address=\"hitech city\"\n",
    "e1=Emp()\n",
    "e1.name=\"employee1\"\n",
    "e1.doj=\"2017-08-23\"\n",
    "print e1.company_name, e1.company_address, e1.name, e1.doj\n",
    "print Emp.company_address, Emp.company_name"
   ]
  },
  {
   "cell_type": "code",
   "execution_count": 22,
   "metadata": {},
   "outputs": [
    {
     "name": "stdout",
     "output_type": "stream",
     "text": [
      "('GSS', 'hitech city')\n"
     ]
    }
   ],
   "source": [
    "class Emp:\n",
    "    company_name=\"GSS\"\n",
    "    company_address=\"hitech city\"\n",
    "    def get_company(a):\n",
    "        return a.company_name, a.company_address\n",
    "        \n",
    "e1=Emp()\n",
    "e1.name=\"employee1\"\n",
    "e1.doj=\"2017-08-23\"\n",
    "print e1.get_company()"
   ]
  },
  {
   "cell_type": "code",
   "execution_count": 23,
   "metadata": {},
   "outputs": [
    {
     "name": "stdout",
     "output_type": "stream",
     "text": [
      "('GSS', 'hitech city')\n"
     ]
    }
   ],
   "source": [
    "class Emp:\n",
    "    company_name=\"GSS\"\n",
    "    company_address=\"hitech city\"\n",
    "    @classmethod\n",
    "    def get_company(a):\n",
    "        return a.company_name, a.company_address\n",
    "        \n",
    "e1=Emp()\n",
    "e1.name=\"employee1\"\n",
    "e1.doj=\"2017-08-23\"\n",
    "print e1.get_company()"
   ]
  },
  {
   "cell_type": "code",
   "execution_count": 24,
   "metadata": {},
   "outputs": [
    {
     "name": "stdout",
     "output_type": "stream",
     "text": [
      "('GSS', 'hitech city')\n"
     ]
    }
   ],
   "source": [
    "class Emp:\n",
    "    company_name=\"GSS\"\n",
    "    company_address=\"hitech city\"\n",
    "    @classmethod\n",
    "    def get_company(a):\n",
    "        return a.company_name, a.company_address\n",
    "        \n",
    "print Emp.get_company()"
   ]
  },
  {
   "cell_type": "code",
   "execution_count": 25,
   "metadata": {},
   "outputs": [
    {
     "name": "stdout",
     "output_type": "stream",
     "text": [
      "('GSS', 'hitech city', 'employee1', '2017-08-23')\n"
     ]
    }
   ],
   "source": [
    "class Emp:\n",
    "    company_name=\"GSS\"\n",
    "    company_address=\"hitech city\"\n",
    "    @classmethod\n",
    "    def get_company(cls):\n",
    "        return cls.company_name, cls.company_address\n",
    "    def get(a):\n",
    "        return a.company_name, a.company_address, a.name, a.doj\n",
    "        \n",
    "e1=Emp()\n",
    "e1.name=\"employee1\"\n",
    "e1.doj=\"2017-08-23\"\n",
    "print e1.get()"
   ]
  },
  {
   "cell_type": "code",
   "execution_count": 26,
   "metadata": {},
   "outputs": [
    {
     "name": "stdout",
     "output_type": "stream",
     "text": [
      "('GSS', 'hitech city', 'employee1', '2017-08-23')\n"
     ]
    }
   ],
   "source": [
    "class Emp:\n",
    "    company_name=\"GSS\"\n",
    "    company_address=\"hitech city\"\n",
    "    @classmethod\n",
    "    def get_company(cls):\n",
    "        return cls.company_name, cls.company_address\n",
    "    def get(self):\n",
    "        return self.company_name, self.company_address, self.name, self.doj\n",
    "        \n",
    "e1=Emp()\n",
    "e1.name=\"employee1\"\n",
    "e1.doj=\"2017-08-23\"\n",
    "print e1.get()"
   ]
  },
  {
   "cell_type": "code",
   "execution_count": 1,
   "metadata": {},
   "outputs": [
    {
     "name": "stdout",
     "output_type": "stream",
     "text": [
      "('GSS', 'hitech city', 'employee1', '2017-08-23')\n"
     ]
    }
   ],
   "source": [
    "class Emp:\n",
    "    company_name=\"GSS\"\n",
    "    company_address=\"hitech city\"\n",
    "    def set_data(self, name1,doj1):\n",
    "        self.name=name1\n",
    "        self.doj=doj1\n",
    "    def get(self):\n",
    "        return self.company_name, self.company_address, self.name, self.doj\n",
    "        \n",
    "e1=Emp()\n",
    "#e1.name=\"employee1\"\n",
    "#e1.doj=\"2017-08-23\"\n",
    "e1.set_data(\"employee1\",\"2017-08-23\")\n",
    "print e1.get()"
   ]
  },
  {
   "cell_type": "code",
   "execution_count": 2,
   "metadata": {},
   "outputs": [
    {
     "name": "stdout",
     "output_type": "stream",
     "text": [
      "('GSS', 'hitech city', 'employee1', '2017-08-23')\n"
     ]
    },
    {
     "ename": "AttributeError",
     "evalue": "Emp instance has no attribute 'name'",
     "output_type": "error",
     "traceback": [
      "\u001b[1;31m---------------------------------------------------------------------------\u001b[0m",
      "\u001b[1;31mAttributeError\u001b[0m                            Traceback (most recent call last)",
      "\u001b[1;32m<ipython-input-2-cb660b869905>\u001b[0m in \u001b[0;36m<module>\u001b[1;34m()\u001b[0m\n\u001b[0;32m     12\u001b[0m \u001b[1;32mprint\u001b[0m \u001b[0me1\u001b[0m\u001b[1;33m.\u001b[0m\u001b[0mget\u001b[0m\u001b[1;33m(\u001b[0m\u001b[1;33m)\u001b[0m\u001b[1;33m\u001b[0m\u001b[0m\n\u001b[0;32m     13\u001b[0m \u001b[0me2\u001b[0m\u001b[1;33m=\u001b[0m\u001b[0mEmp\u001b[0m\u001b[1;33m(\u001b[0m\u001b[1;33m)\u001b[0m\u001b[1;33m\u001b[0m\u001b[0m\n\u001b[1;32m---> 14\u001b[1;33m \u001b[1;32mprint\u001b[0m \u001b[0me2\u001b[0m\u001b[1;33m.\u001b[0m\u001b[0mget\u001b[0m\u001b[1;33m(\u001b[0m\u001b[1;33m)\u001b[0m\u001b[1;33m\u001b[0m\u001b[0m\n\u001b[0m",
      "\u001b[1;32m<ipython-input-2-cb660b869905>\u001b[0m in \u001b[0;36mget\u001b[1;34m(self)\u001b[0m\n\u001b[0;32m      6\u001b[0m         \u001b[0mself\u001b[0m\u001b[1;33m.\u001b[0m\u001b[0mdoj\u001b[0m\u001b[1;33m=\u001b[0m\u001b[0mdoj1\u001b[0m\u001b[1;33m\u001b[0m\u001b[0m\n\u001b[0;32m      7\u001b[0m     \u001b[1;32mdef\u001b[0m \u001b[0mget\u001b[0m\u001b[1;33m(\u001b[0m\u001b[0mself\u001b[0m\u001b[1;33m)\u001b[0m\u001b[1;33m:\u001b[0m\u001b[1;33m\u001b[0m\u001b[0m\n\u001b[1;32m----> 8\u001b[1;33m         \u001b[1;32mreturn\u001b[0m \u001b[0mself\u001b[0m\u001b[1;33m.\u001b[0m\u001b[0mcompany_name\u001b[0m\u001b[1;33m,\u001b[0m \u001b[0mself\u001b[0m\u001b[1;33m.\u001b[0m\u001b[0mcompany_address\u001b[0m\u001b[1;33m,\u001b[0m \u001b[0mself\u001b[0m\u001b[1;33m.\u001b[0m\u001b[0mname\u001b[0m\u001b[1;33m,\u001b[0m \u001b[0mself\u001b[0m\u001b[1;33m.\u001b[0m\u001b[0mdoj\u001b[0m\u001b[1;33m\u001b[0m\u001b[0m\n\u001b[0m\u001b[0;32m      9\u001b[0m \u001b[1;33m\u001b[0m\u001b[0m\n\u001b[0;32m     10\u001b[0m \u001b[0me1\u001b[0m\u001b[1;33m=\u001b[0m\u001b[0mEmp\u001b[0m\u001b[1;33m(\u001b[0m\u001b[1;33m)\u001b[0m\u001b[1;33m\u001b[0m\u001b[0m\n",
      "\u001b[1;31mAttributeError\u001b[0m: Emp instance has no attribute 'name'"
     ]
    }
   ],
   "source": [
    "class Emp:\n",
    "    company_name=\"GSS\"\n",
    "    company_address=\"hitech city\"\n",
    "    def set_data(self, name1,doj1):\n",
    "        self.name=name1\n",
    "        self.doj=doj1\n",
    "    def get(self):\n",
    "        return self.company_name, self.company_address, self.name, self.doj\n",
    "        \n",
    "e1=Emp()\n",
    "e1.set_data(\"employee1\",\"2017-08-23\")\n",
    "print e1.get()\n",
    "e2=Emp()\n",
    "print e2.get()"
   ]
  },
  {
   "cell_type": "code",
   "execution_count": 3,
   "metadata": {},
   "outputs": [
    {
     "name": "stdout",
     "output_type": "stream",
     "text": [
      "this is emp class\n"
     ]
    }
   ],
   "source": [
    "class Emp:\n",
    "    print \"this is emp class\"\n",
    "    def get(self):\n",
    "        print \"this is get\"\n",
    "    def __init__(self):\n",
    "        print \"this is init\""
   ]
  },
  {
   "cell_type": "code",
   "execution_count": 5,
   "metadata": {},
   "outputs": [
    {
     "name": "stdout",
     "output_type": "stream",
     "text": [
      "this is emp class\n",
      "this is init2\n",
      "this is init2\n"
     ]
    }
   ],
   "source": [
    "class Emp:\n",
    "    print \"this is emp class\"\n",
    "    def get(self):\n",
    "        print \"this is get\"\n",
    "    def __init__(self):\n",
    "        print \"this is init\"\n",
    "    def __init__(self):\n",
    "        print \"this is init2\"\n",
    "e1=Emp()\n",
    "e2=Emp()"
   ]
  },
  {
   "cell_type": "code",
   "execution_count": 6,
   "metadata": {},
   "outputs": [
    {
     "name": "stdout",
     "output_type": "stream",
     "text": [
      "this is emp class\n"
     ]
    },
    {
     "ename": "TypeError",
     "evalue": "__init__() takes exactly 1 argument (3 given)",
     "output_type": "error",
     "traceback": [
      "\u001b[1;31m---------------------------------------------------------------------------\u001b[0m",
      "\u001b[1;31mTypeError\u001b[0m                                 Traceback (most recent call last)",
      "\u001b[1;32m<ipython-input-6-79fae0deaa6c>\u001b[0m in \u001b[0;36m<module>\u001b[1;34m()\u001b[0m\n\u001b[0;32m      5\u001b[0m     \u001b[1;32mdef\u001b[0m \u001b[0m__init__\u001b[0m\u001b[1;33m(\u001b[0m\u001b[0mself\u001b[0m\u001b[1;33m)\u001b[0m\u001b[1;33m:\u001b[0m\u001b[1;33m\u001b[0m\u001b[0m\n\u001b[0;32m      6\u001b[0m         \u001b[1;32mprint\u001b[0m \u001b[1;34m\"this is init\"\u001b[0m\u001b[1;33m\u001b[0m\u001b[0m\n\u001b[1;32m----> 7\u001b[1;33m \u001b[0me1\u001b[0m\u001b[1;33m=\u001b[0m\u001b[0mEmp\u001b[0m\u001b[1;33m(\u001b[0m\u001b[1;34m\"employee1\"\u001b[0m\u001b[1;33m,\u001b[0m\u001b[1;34m\"2017-09-23\"\u001b[0m\u001b[1;33m)\u001b[0m\u001b[1;33m\u001b[0m\u001b[0m\n\u001b[0m\u001b[0;32m      8\u001b[0m \u001b[0me2\u001b[0m\u001b[1;33m=\u001b[0m\u001b[0mEmp\u001b[0m\u001b[1;33m(\u001b[0m\u001b[1;34m\"employee2\"\u001b[0m\u001b[1;33m,\u001b[0m\u001b[1;34m\"2017-10-24\"\u001b[0m\u001b[1;33m)\u001b[0m\u001b[1;33m\u001b[0m\u001b[0m\n",
      "\u001b[1;31mTypeError\u001b[0m: __init__() takes exactly 1 argument (3 given)"
     ]
    }
   ],
   "source": [
    "class Emp:\n",
    "    print \"this is emp class\"\n",
    "    def get(self):\n",
    "        print \"this is get\"\n",
    "    def __init__(self):\n",
    "        print \"this is init\"\n",
    "e1=Emp(\"employee1\",\"2017-09-23\")\n",
    "e2=Emp(\"employee2\",\"2017-10-24\")"
   ]
  },
  {
   "cell_type": "code",
   "execution_count": 8,
   "metadata": {},
   "outputs": [
    {
     "name": "stdout",
     "output_type": "stream",
     "text": [
      "this is emp class\n",
      "this is init\n",
      "this is init\n",
      "('GSS', 'hitechcity', 'employee1', '2017-09-23')\n",
      "('GSS', 'hitechcity', 'employee2', '2017-10-24')\n"
     ]
    }
   ],
   "source": [
    "class Emp:\n",
    "    company_name=\"GSS\"\n",
    "    company_address=\"hitechcity\"\n",
    "    print \"this is emp class\"\n",
    "    def get(self):\n",
    "        return self.company_name, self.company_address, self.name, self.doj\n",
    "    def __init__(self,name,doj):\n",
    "        self.name=name\n",
    "        self.doj=doj\n",
    "        print \"this is init\"\n",
    "e1=Emp(\"employee1\",\"2017-09-23\")\n",
    "e2=Emp(\"employee2\",\"2017-10-24\")\n",
    "print e1.get()\n",
    "print e2.get()"
   ]
  },
  {
   "cell_type": "code",
   "execution_count": 9,
   "metadata": {},
   "outputs": [
    {
     "name": "stdout",
     "output_type": "stream",
     "text": [
      "this is emp class\n",
      "this is init\n",
      "this is init\n",
      "('GSS', 'hitechcity', 'employee1', '2017-09-23')\n",
      "('GSS', 'hitechcity', 'employee2', '2017-10-24')\n"
     ]
    },
    {
     "ename": "TypeError",
     "evalue": "__init__() takes exactly 3 arguments (2 given)",
     "output_type": "error",
     "traceback": [
      "\u001b[1;31m---------------------------------------------------------------------------\u001b[0m",
      "\u001b[1;31mTypeError\u001b[0m                                 Traceback (most recent call last)",
      "\u001b[1;32m<ipython-input-9-ee42a671458c>\u001b[0m in \u001b[0;36m<module>\u001b[1;34m()\u001b[0m\n\u001b[0;32m     13\u001b[0m \u001b[1;32mprint\u001b[0m \u001b[0me1\u001b[0m\u001b[1;33m.\u001b[0m\u001b[0mget\u001b[0m\u001b[1;33m(\u001b[0m\u001b[1;33m)\u001b[0m\u001b[1;33m\u001b[0m\u001b[0m\n\u001b[0;32m     14\u001b[0m \u001b[1;32mprint\u001b[0m \u001b[0me2\u001b[0m\u001b[1;33m.\u001b[0m\u001b[0mget\u001b[0m\u001b[1;33m(\u001b[0m\u001b[1;33m)\u001b[0m\u001b[1;33m\u001b[0m\u001b[0m\n\u001b[1;32m---> 15\u001b[1;33m \u001b[0me3\u001b[0m\u001b[1;33m=\u001b[0m\u001b[0mEmp\u001b[0m\u001b[1;33m(\u001b[0m\u001b[1;34m\"employee3\"\u001b[0m\u001b[1;33m)\u001b[0m\u001b[1;33m\u001b[0m\u001b[0m\n\u001b[0m",
      "\u001b[1;31mTypeError\u001b[0m: __init__() takes exactly 3 arguments (2 given)"
     ]
    }
   ],
   "source": [
    "class Emp:\n",
    "    company_name=\"GSS\"\n",
    "    company_address=\"hitechcity\"\n",
    "    print \"this is emp class\"\n",
    "    def get(self):\n",
    "        return self.company_name, self.company_address, self.name, self.doj\n",
    "    def __init__(self,name,doj):\n",
    "        self.name=name\n",
    "        self.doj=doj\n",
    "        print \"this is init\"\n",
    "e1=Emp(\"employee1\",\"2017-09-23\")\n",
    "e2=Emp(\"employee2\",\"2017-10-24\")\n",
    "print e1.get()\n",
    "print e2.get()\n",
    "e3=Emp(\"employee3\")"
   ]
  },
  {
   "cell_type": "code",
   "execution_count": null,
   "metadata": {},
   "outputs": [],
   "source": [
    "class Emp:\n",
    "    company_name=\"GSS\"\n",
    "    company_address=\"hitechcity\"\n",
    "    print \"this is emp class\"\n",
    "    def get(self):\n",
    "        return self.company_name, self.company_address, self.name, self.doj\n",
    "    def __init__(self,name,doj):\n",
    "        self.name=name\n",
    "        self.doj=doj\n",
    "        print \"this is init\"\n",
    "e1=Emp(\"employee1\",\"2017-09-23\")\n",
    "e2=Emp(\"employee2\",\"2017-10-24\")\n",
    "print e1.get()\n",
    "print e2.get()\n"
   ]
  },
  {
   "cell_type": "code",
   "execution_count": 11,
   "metadata": {},
   "outputs": [
    {
     "name": "stdout",
     "output_type": "stream",
     "text": [
      "this is emp class\n",
      "this is init\n",
      "this is init\n",
      "('GSS', 'hitechcity', 'employee1', '2017-09-23')\n",
      "('GSS', 'hitechcity', 'employee2', '2017-10-24')\n"
     ]
    }
   ],
   "source": [
    "class Emp:\n",
    "    company_name=\"GSS\"\n",
    "    company_address=\"hitechcity\"\n",
    "    print \"this is emp class\"\n",
    "    def __new__(cls, *args):\n",
    "        print \"this is new\"\n",
    "        return None\n",
    "    def get(self):\n",
    "        return self.company_name, self.company_address, self.name, self.doj\n",
    "    def __init__(self,name,doj):\n",
    "        self.name=name\n",
    "        self.doj=doj\n",
    "        print \"this is init\"\n",
    "e1=Emp(\"employee1\",\"2017-09-23\")\n",
    "e2=Emp(\"employee2\",\"2017-10-24\")\n",
    "print e1.get()\n",
    "print e2.get()\n"
   ]
  },
  {
   "cell_type": "code",
   "execution_count": 12,
   "metadata": {},
   "outputs": [
    {
     "name": "stdout",
     "output_type": "stream",
     "text": [
      "this is emp class\n"
     ]
    }
   ],
   "source": [
    "class Emp:\n",
    "    company_name=\"GSS\"\n",
    "    company_address=\"hitechcity\"\n",
    "    print \"this is emp class\"\n",
    "    def __new__(cls, *args):\n",
    "        print \"this is new\"\n",
    "        return None\n",
    "    def get(self):\n",
    "        return self.company_name, self.company_address, self.name, self.doj\n",
    "    def __init__(self,name,doj):\n",
    "        self.name=name\n",
    "        self.doj=doj\n",
    "        print \"this is init\""
   ]
  },
  {
   "cell_type": "code",
   "execution_count": 13,
   "metadata": {},
   "outputs": [
    {
     "name": "stdout",
     "output_type": "stream",
     "text": [
      "this is emp class\n",
      "this is new\n",
      "this is new\n"
     ]
    },
    {
     "ename": "AttributeError",
     "evalue": "'NoneType' object has no attribute 'get'",
     "output_type": "error",
     "traceback": [
      "\u001b[1;31m---------------------------------------------------------------------------\u001b[0m",
      "\u001b[1;31mAttributeError\u001b[0m                            Traceback (most recent call last)",
      "\u001b[1;32m<ipython-input-13-280f8508eddb>\u001b[0m in \u001b[0;36m<module>\u001b[1;34m()\u001b[0m\n\u001b[0;32m     14\u001b[0m \u001b[0me1\u001b[0m\u001b[1;33m=\u001b[0m\u001b[0mEmp\u001b[0m\u001b[1;33m(\u001b[0m\u001b[1;34m\"employee1\"\u001b[0m\u001b[1;33m,\u001b[0m\u001b[1;34m\"2017-09-23\"\u001b[0m\u001b[1;33m)\u001b[0m\u001b[1;33m\u001b[0m\u001b[0m\n\u001b[0;32m     15\u001b[0m \u001b[0me2\u001b[0m\u001b[1;33m=\u001b[0m\u001b[0mEmp\u001b[0m\u001b[1;33m(\u001b[0m\u001b[1;34m\"employee2\"\u001b[0m\u001b[1;33m,\u001b[0m\u001b[1;34m\"2017-10-24\"\u001b[0m\u001b[1;33m)\u001b[0m\u001b[1;33m\u001b[0m\u001b[0m\n\u001b[1;32m---> 16\u001b[1;33m \u001b[1;32mprint\u001b[0m \u001b[0me1\u001b[0m\u001b[1;33m.\u001b[0m\u001b[0mget\u001b[0m\u001b[1;33m(\u001b[0m\u001b[1;33m)\u001b[0m\u001b[1;33m\u001b[0m\u001b[0m\n\u001b[0m\u001b[0;32m     17\u001b[0m \u001b[1;32mprint\u001b[0m \u001b[0me2\u001b[0m\u001b[1;33m.\u001b[0m\u001b[0mget\u001b[0m\u001b[1;33m(\u001b[0m\u001b[1;33m)\u001b[0m\u001b[1;33m\u001b[0m\u001b[0m\n",
      "\u001b[1;31mAttributeError\u001b[0m: 'NoneType' object has no attribute 'get'"
     ]
    }
   ],
   "source": [
    "class Emp(object):\n",
    "    company_name=\"GSS\"\n",
    "    company_address=\"hitechcity\"\n",
    "    print \"this is emp class\"\n",
    "    def __new__(cls, *args):\n",
    "        print \"this is new\"\n",
    "        return None\n",
    "    def get(self):\n",
    "        return self.company_name, self.company_address, self.name, self.doj\n",
    "    def __init__(self,name,doj):\n",
    "        self.name=name\n",
    "        self.doj=doj\n",
    "        print \"this is init\"\n",
    "e1=Emp(\"employee1\",\"2017-09-23\")\n",
    "e2=Emp(\"employee2\",\"2017-10-24\")\n",
    "print e1.get()\n",
    "print e2.get()"
   ]
  },
  {
   "cell_type": "code",
   "execution_count": 14,
   "metadata": {},
   "outputs": [
    {
     "name": "stdout",
     "output_type": "stream",
     "text": [
      "this is fun1\n",
      "this fun2\n"
     ]
    }
   ],
   "source": [
    "class c1:\n",
    "    def fun1(self,a):\n",
    "        print \"this is fun1\"\n",
    "class c2:\n",
    "    def fun2(self,b):\n",
    "        print \"this fun2\"\n",
    "class c3:\n",
    "    def operations(self):\n",
    "        o1=c1()\n",
    "        o2=c2()\n",
    "        c1.fun1(o1,10)\n",
    "        c2.fun2(o2,20)\n",
    "o3=c3()\n",
    "o3.operations()"
   ]
  },
  {
   "cell_type": "code",
   "execution_count": 18,
   "metadata": {},
   "outputs": [
    {
     "name": "stdout",
     "output_type": "stream",
     "text": [
      "this is fun1\n",
      "this fun2\n",
      "this is fun1\n",
      "this fun2\n"
     ]
    }
   ],
   "source": [
    "class c1:\n",
    "    def fun1(self,a):\n",
    "        print \"this is fun1\"\n",
    "class c2:\n",
    "    def fun2(self,b):\n",
    "        print \"this fun2\"\n",
    "class c3(c1,c2):\n",
    "    def operations(self):\n",
    "        c1.fun1(self,10)\n",
    "        c2.fun2(self,20)\n",
    "o3=c3()\n",
    "o3.operations()\n",
    "o3.fun1(100)\n",
    "o3.fun2(200)"
   ]
  },
  {
   "cell_type": "code",
   "execution_count": 20,
   "metadata": {},
   "outputs": [
    {
     "name": "stdout",
     "output_type": "stream",
     "text": [
      "verify the data\n",
      "this is fun1\n"
     ]
    }
   ],
   "source": [
    "class c1:\n",
    "    def fun1(self,a):\n",
    "        print \"this is fun1\"\n",
    "class c2:\n",
    "    def fun2(self,b):\n",
    "        print \"this fun2\"\n",
    "class c3(c1,c2):\n",
    "    def verify_fun1(self):\n",
    "        print \"verify the data\"\n",
    "        print \"this is fun1\"\n",
    "o3=c3()\n",
    "o3.verify_fun1()"
   ]
  },
  {
   "cell_type": "code",
   "execution_count": 22,
   "metadata": {},
   "outputs": [
    {
     "name": "stdout",
     "output_type": "stream",
     "text": [
      "verify the data\n",
      "this is fun1\n"
     ]
    }
   ],
   "source": [
    "class c1:\n",
    "    def fun1(self,a):\n",
    "        print \"this is fun1\"\n",
    "class c2:\n",
    "    def fun2(self,b):\n",
    "        print \"this fun2\"\n",
    "class c3(c1,c2):\n",
    "    def verify_fun1(self):\n",
    "        print \"verify the data\"\n",
    "        self.fun1(100)\n",
    "o3=c3()\n",
    "o3.verify_fun1()"
   ]
  },
  {
   "cell_type": "code",
   "execution_count": 25,
   "metadata": {},
   "outputs": [
    {
     "name": "stdout",
     "output_type": "stream",
     "text": [
      "insert data: {'name': 'p1'}\n",
      "insert data: {'name': 'c1'}\n"
     ]
    }
   ],
   "source": [
    "class Model:\n",
    "    def insert(self, data):\n",
    "        print \"insert data: %s\"%data\n",
    "class product(Model):\n",
    "    pass\n",
    "class customer(Model):\n",
    "    pass\n",
    "p1=product()\n",
    "p1.insert({\"name\":\"p1\"})\n",
    "c1=customer()\n",
    "c1.insert({\"name\":\"c1\"})"
   ]
  },
  {
   "cell_type": "code",
   "execution_count": 26,
   "metadata": {},
   "outputs": [
    {
     "name": "stdout",
     "output_type": "stream",
     "text": [
      "insert data: {'name': 'p1'}\n",
      "insert data: {'name': 'c1'}\n",
      "insert data: {'name': 's1'}\n"
     ]
    }
   ],
   "source": [
    "class Model:\n",
    "    def insert(self, data):\n",
    "        print \"insert data: %s\"%data\n",
    "class product(Model):\n",
    "    pass\n",
    "class customer(Model):\n",
    "    pass\n",
    "class suplier(Model):\n",
    "    def verify_insert(self,data):\n",
    "        print \"verify the data\"\n",
    "        self.insert(data)\n",
    "\n",
    "p1=product()\n",
    "p1.insert({\"name\":\"p1\"})\n",
    "c1=customer()\n",
    "c1.insert({\"name\":\"c1\"})\n",
    "s1=suplier()\n",
    "s1.insert({\"name\":\"s1\"})"
   ]
  },
  {
   "cell_type": "code",
   "execution_count": 27,
   "metadata": {},
   "outputs": [
    {
     "name": "stdout",
     "output_type": "stream",
     "text": [
      "insert data: {'name': 'p1'}\n",
      "insert data: {'name': 'c1'}\n",
      "verify the data\n",
      "insert data: {'name': 's1'}\n"
     ]
    }
   ],
   "source": [
    "class Model:\n",
    "    def insert(self, data):\n",
    "        print \"insert data: %s\"%data\n",
    "class product(Model):\n",
    "    pass\n",
    "class customer(Model):\n",
    "    pass\n",
    "class suplier(Model):\n",
    "    def insert(self,data):\n",
    "        print \"verify the data\"\n",
    "        Model.insert(self, data)\n",
    "\n",
    "p1=product()\n",
    "p1.insert({\"name\":\"p1\"})\n",
    "c1=customer()\n",
    "c1.insert({\"name\":\"c1\"})\n",
    "s1=suplier()\n",
    "s1.insert({\"name\":\"s1\"})"
   ]
  },
  {
   "cell_type": "code",
   "execution_count": null,
   "metadata": {},
   "outputs": [],
   "source": []
  }
 ],
 "metadata": {
  "kernelspec": {
   "display_name": "Python 2",
   "language": "python",
   "name": "python2"
  },
  "language_info": {
   "codemirror_mode": {
    "name": "ipython",
    "version": 2
   },
   "file_extension": ".py",
   "mimetype": "text/x-python",
   "name": "python",
   "nbconvert_exporter": "python",
   "pygments_lexer": "ipython2",
   "version": "2.7.15"
  }
 },
 "nbformat": 4,
 "nbformat_minor": 2
}
