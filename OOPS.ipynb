{
 "cells": [
  {
   "cell_type": "code",
   "execution_count": 1,
   "metadata": {},
   "outputs": [
    {
     "name": "stdout",
     "output_type": "stream",
     "text": [
      "this is class\n"
     ]
    }
   ],
   "source": [
    "def fun():\n",
    "    print \"this is fun\"\n",
    "class c1:\n",
    "    print \"this is class\""
   ]
  },
  {
   "cell_type": "code",
   "execution_count": 2,
   "metadata": {},
   "outputs": [
    {
     "name": "stdout",
     "output_type": "stream",
     "text": [
      "this is class\n"
     ]
    }
   ],
   "source": [
    "def fun():\n",
    "    print \"this is fun\"\n",
    "class c1:\n",
    "    print \"this is class\"\n",
    "    def fun1(a):\n",
    "        print \"this is fun1 in class\""
   ]
  },
  {
   "cell_type": "code",
   "execution_count": 3,
   "metadata": {},
   "outputs": [
    {
     "name": "stdout",
     "output_type": "stream",
     "text": [
      "vol1\n",
      "20\n",
      "aggr1\n"
     ]
    }
   ],
   "source": [
    "class Volume:\n",
    "    name=\"vol1\"\n",
    "    size_mb=20\n",
    "    aggregate=\"aggr1\"\n",
    "    def exapnd(a):\n",
    "        print \"this is fun1 in class\"\n",
    "    print name\n",
    "    print size_mb\n",
    "    print aggregate\n",
    "    "
   ]
  },
  {
   "cell_type": "code",
   "execution_count": 4,
   "metadata": {},
   "outputs": [
    {
     "ename": "NameError",
     "evalue": "name 'name' is not defined",
     "output_type": "error",
     "traceback": [
      "\u001b[1;31m--------------------------------------------------------------\u001b[0m",
      "\u001b[1;31mNameError\u001b[0m                    Traceback (most recent call last)",
      "\u001b[1;32m<ipython-input-4-c7d44b8288af>\u001b[0m in \u001b[0;36m<module>\u001b[1;34m()\u001b[0m\n\u001b[0;32m      5\u001b[0m     \u001b[1;32mdef\u001b[0m \u001b[0mexapnd\u001b[0m\u001b[1;33m(\u001b[0m\u001b[0ma\u001b[0m\u001b[1;33m)\u001b[0m\u001b[1;33m:\u001b[0m\u001b[1;33m\u001b[0m\u001b[0m\n\u001b[0;32m      6\u001b[0m         \u001b[1;32mprint\u001b[0m \u001b[1;34m\"this is fun1 in class\"\u001b[0m\u001b[1;33m\u001b[0m\u001b[0m\n\u001b[1;32m----> 7\u001b[1;33m \u001b[1;32mprint\u001b[0m \u001b[0mname\u001b[0m\u001b[1;33m\u001b[0m\u001b[0m\n\u001b[0m\u001b[0;32m      8\u001b[0m \u001b[1;32mprint\u001b[0m \u001b[0msize_mb\u001b[0m\u001b[1;33m\u001b[0m\u001b[0m\n\u001b[0;32m      9\u001b[0m \u001b[1;32mprint\u001b[0m \u001b[0maggregate\u001b[0m\u001b[1;33m\u001b[0m\u001b[0m\n",
      "\u001b[1;31mNameError\u001b[0m: name 'name' is not defined"
     ]
    }
   ],
   "source": [
    "class Volume:\n",
    "    name=\"vol1\"\n",
    "    size_mb=20\n",
    "    aggregate=\"aggr1\"\n",
    "    def exapnd(a):\n",
    "        print \"this is fun1 in class\"\n",
    "print name\n",
    "print size_mb\n",
    "print aggregate\n",
    "    "
   ]
  },
  {
   "cell_type": "code",
   "execution_count": 5,
   "metadata": {},
   "outputs": [
    {
     "name": "stdout",
     "output_type": "stream",
     "text": [
      "vol1\n",
      "20\n",
      "aggr1\n"
     ]
    }
   ],
   "source": [
    "class Volume:\n",
    "    name=\"vol1\"\n",
    "    size_mb=20\n",
    "    aggregate=\"aggr1\"\n",
    "    def expand(a):\n",
    "        print \"this is fun1 in class\"\n",
    "print Volume.name\n",
    "print Volume.size_mb\n",
    "print Volume.aggregate\n",
    "    "
   ]
  },
  {
   "cell_type": "code",
   "execution_count": 6,
   "metadata": {},
   "outputs": [
    {
     "name": "stdout",
     "output_type": "stream",
     "text": [
      "vol1\n",
      "20\n",
      "aggr1\n"
     ]
    },
    {
     "ename": "TypeError",
     "evalue": "unbound method expand() must be called with Volume instance as first argument (got int instance instead)",
     "output_type": "error",
     "traceback": [
      "\u001b[1;31m--------------------------------------------------------------\u001b[0m",
      "\u001b[1;31mTypeError\u001b[0m                    Traceback (most recent call last)",
      "\u001b[1;32m<ipython-input-6-b096a2b3130f>\u001b[0m in \u001b[0;36m<module>\u001b[1;34m()\u001b[0m\n\u001b[0;32m      8\u001b[0m \u001b[1;32mprint\u001b[0m \u001b[0mVolume\u001b[0m\u001b[1;33m.\u001b[0m\u001b[0msize_mb\u001b[0m\u001b[1;33m\u001b[0m\u001b[0m\n\u001b[0;32m      9\u001b[0m \u001b[1;32mprint\u001b[0m \u001b[0mVolume\u001b[0m\u001b[1;33m.\u001b[0m\u001b[0maggregate\u001b[0m\u001b[1;33m\u001b[0m\u001b[0m\n\u001b[1;32m---> 10\u001b[1;33m \u001b[1;32mprint\u001b[0m \u001b[0mVolume\u001b[0m\u001b[1;33m.\u001b[0m\u001b[0mexpand\u001b[0m\u001b[1;33m(\u001b[0m\u001b[1;36m20\u001b[0m\u001b[1;33m)\u001b[0m\u001b[1;33m\u001b[0m\u001b[0m\n\u001b[0m",
      "\u001b[1;31mTypeError\u001b[0m: unbound method expand() must be called with Volume instance as first argument (got int instance instead)"
     ]
    }
   ],
   "source": [
    "class Volume:\n",
    "    name=\"vol1\"\n",
    "    size_mb=20\n",
    "    aggregate=\"aggr1\"\n",
    "    def expand(a):\n",
    "        print \"this is fun1 in class\"\n",
    "print Volume.name\n",
    "print Volume.size_mb\n",
    "print Volume.aggregate\n",
    "print Volume.expand(20)"
   ]
  },
  {
   "cell_type": "code",
   "execution_count": 8,
   "metadata": {},
   "outputs": [
    {
     "name": "stdout",
     "output_type": "stream",
     "text": [
      "vol1\n",
      "20\n",
      "aggr1\n"
     ]
    },
    {
     "ename": "TypeError",
     "evalue": "unbound method expand() must be called with Volume instance as first argument (got classobj instance instead)",
     "output_type": "error",
     "traceback": [
      "\u001b[1;31m--------------------------------------------------------------\u001b[0m",
      "\u001b[1;31mTypeError\u001b[0m                    Traceback (most recent call last)",
      "\u001b[1;32m<ipython-input-8-899a7dd5850d>\u001b[0m in \u001b[0;36m<module>\u001b[1;34m()\u001b[0m\n\u001b[0;32m      8\u001b[0m \u001b[1;32mprint\u001b[0m \u001b[0mVolume\u001b[0m\u001b[1;33m.\u001b[0m\u001b[0msize_mb\u001b[0m\u001b[1;33m\u001b[0m\u001b[0m\n\u001b[0;32m      9\u001b[0m \u001b[1;32mprint\u001b[0m \u001b[0mVolume\u001b[0m\u001b[1;33m.\u001b[0m\u001b[0maggregate\u001b[0m\u001b[1;33m\u001b[0m\u001b[0m\n\u001b[1;32m---> 10\u001b[1;33m \u001b[1;32mprint\u001b[0m \u001b[0mVolume\u001b[0m\u001b[1;33m.\u001b[0m\u001b[0mexpand\u001b[0m\u001b[1;33m(\u001b[0m\u001b[0mVolume\u001b[0m\u001b[1;33m,\u001b[0m\u001b[1;36m20\u001b[0m\u001b[1;33m)\u001b[0m\u001b[1;33m\u001b[0m\u001b[0m\n\u001b[0m",
      "\u001b[1;31mTypeError\u001b[0m: unbound method expand() must be called with Volume instance as first argument (got classobj instance instead)"
     ]
    }
   ],
   "source": [
    "class Volume:\n",
    "    name=\"vol1\"\n",
    "    size_mb=20\n",
    "    aggregate=\"aggr1\"\n",
    "    def expand(a):\n",
    "        print \"this is fun1 in class\"\n",
    "print Volume.name\n",
    "print Volume.size_mb\n",
    "print Volume.aggregate\n",
    "print Volume.expand(Volume,20)"
   ]
  },
  {
   "cell_type": "code",
   "execution_count": 9,
   "metadata": {},
   "outputs": [],
   "source": [
    "a=20"
   ]
  },
  {
   "cell_type": "code",
   "execution_count": 10,
   "metadata": {},
   "outputs": [
    {
     "data": {
      "text/plain": [
       "int"
      ]
     },
     "execution_count": 10,
     "metadata": {},
     "output_type": "execute_result"
    }
   ],
   "source": [
    "int"
   ]
  },
  {
   "cell_type": "code",
   "execution_count": 11,
   "metadata": {},
   "outputs": [],
   "source": [
    "s=\"fdsds\""
   ]
  },
  {
   "cell_type": "code",
   "execution_count": 12,
   "metadata": {},
   "outputs": [
    {
     "name": "stdout",
     "output_type": "stream",
     "text": [
      "vol1\n",
      "20\n",
      "aggr1\n",
      "this is fun1 in class\n",
      "None\n"
     ]
    }
   ],
   "source": [
    "class Volume:\n",
    "    name=\"vol1\"\n",
    "    size_mb=20\n",
    "    aggregate=\"aggr1\"\n",
    "    def expand(a):\n",
    "        print \"this is fun1 in class\"\n",
    "print Volume.name\n",
    "print Volume.size_mb\n",
    "print Volume.aggregate\n",
    "v1 = Volume()\n",
    "print Volume.expand(v1)"
   ]
  },
  {
   "cell_type": "code",
   "execution_count": 1,
   "metadata": {},
   "outputs": [
    {
     "name": "stdout",
     "output_type": "stream",
     "text": [
      "c="
     ]
    },
    {
     "ename": "NameError",
     "evalue": "name 'c' is not defined",
     "output_type": "error",
     "traceback": [
      "\u001b[1;31m----------------------------------------------------------------\u001b[0m",
      "\u001b[1;31mNameError\u001b[0m                      Traceback (most recent call last)",
      "\u001b[1;32m<ipython-input-1-7e9f92311b91>\u001b[0m in \u001b[0;36m<module>\u001b[1;34m()\u001b[0m\n\u001b[0;32m      2\u001b[0m     \u001b[0mc\u001b[0m\u001b[1;33m=\u001b[0m\u001b[0ma\u001b[0m\u001b[1;33m+\u001b[0m\u001b[0mb\u001b[0m\u001b[1;33m\u001b[0m\u001b[0m\n\u001b[0;32m      3\u001b[0m \u001b[0mfun\u001b[0m\u001b[1;33m(\u001b[0m\u001b[1;36m10\u001b[0m\u001b[1;33m,\u001b[0m\u001b[1;36m20\u001b[0m\u001b[1;33m)\u001b[0m\u001b[1;33m\u001b[0m\u001b[0m\n\u001b[1;32m----> 4\u001b[1;33m \u001b[1;32mprint\u001b[0m \u001b[1;34m\"c=\"\u001b[0m\u001b[1;33m,\u001b[0m\u001b[0mc\u001b[0m\u001b[1;33m\u001b[0m\u001b[0m\n\u001b[0m",
      "\u001b[1;31mNameError\u001b[0m: name 'c' is not defined"
     ]
    }
   ],
   "source": [
    "def fun(a,b):\n",
    "    c=a+b\n",
    "fun(10,20)\n",
    "print \"c=\",c"
   ]
  },
  {
   "cell_type": "code",
   "execution_count": 2,
   "metadata": {},
   "outputs": [
    {
     "ename": "NameError",
     "evalue": "name 'd' is not defined",
     "output_type": "error",
     "traceback": [
      "\u001b[1;31m----------------------------------------------------------------\u001b[0m",
      "\u001b[1;31mNameError\u001b[0m                      Traceback (most recent call last)",
      "\u001b[1;32m<ipython-input-2-98289b82046a>\u001b[0m in \u001b[0;36m<module>\u001b[1;34m()\u001b[0m\n\u001b[1;32m----> 1\u001b[1;33m \u001b[1;32mprint\u001b[0m \u001b[0md\u001b[0m\u001b[1;33m\u001b[0m\u001b[0m\n\u001b[0m",
      "\u001b[1;31mNameError\u001b[0m: name 'd' is not defined"
     ]
    }
   ],
   "source": [
    "print d"
   ]
  },
  {
   "cell_type": "code",
   "execution_count": 3,
   "metadata": {},
   "outputs": [
    {
     "name": "stdout",
     "output_type": "stream",
     "text": [
      " c="
     ]
    },
    {
     "ename": "NameError",
     "evalue": "name 'c' is not defined",
     "output_type": "error",
     "traceback": [
      "\u001b[1;31m----------------------------------------------------------------\u001b[0m",
      "\u001b[1;31mNameError\u001b[0m                      Traceback (most recent call last)",
      "\u001b[1;32m<ipython-input-3-b8fe97066804>\u001b[0m in \u001b[0;36m<module>\u001b[1;34m()\u001b[0m\n\u001b[0;32m      5\u001b[0m     \u001b[0mf\u001b[0m\u001b[1;33m=\u001b[0m\u001b[0ma\u001b[0m\u001b[1;33m/\u001b[0m\u001b[0mb\u001b[0m\u001b[1;33m\u001b[0m\u001b[0m\n\u001b[0;32m      6\u001b[0m \u001b[0mfun\u001b[0m\u001b[1;33m(\u001b[0m\u001b[1;36m10\u001b[0m\u001b[1;33m,\u001b[0m\u001b[1;36m20\u001b[0m\u001b[1;33m)\u001b[0m\u001b[1;33m\u001b[0m\u001b[0m\n\u001b[1;32m----> 7\u001b[1;33m \u001b[1;32mprint\u001b[0m \u001b[1;34m\"c=\"\u001b[0m\u001b[1;33m,\u001b[0m\u001b[0mc\u001b[0m\u001b[1;33m\u001b[0m\u001b[0m\n\u001b[0m\u001b[0;32m      8\u001b[0m \u001b[1;32mprint\u001b[0m \u001b[1;34m\"a=\"\u001b[0m\u001b[1;33m,\u001b[0m\u001b[0ma\u001b[0m\u001b[1;33m,\u001b[0m\u001b[1;34m\"b=\"\u001b[0m\u001b[1;33m,\u001b[0m\u001b[0mb\u001b[0m\u001b[1;33m\u001b[0m\u001b[0m\n",
      "\u001b[1;31mNameError\u001b[0m: name 'c' is not defined"
     ]
    }
   ],
   "source": [
    "def fun(a,b):\n",
    "    c=a+b\n",
    "    e=a-b\n",
    "    d=a*b\n",
    "    f=a/b\n",
    "fun(10,20)\n",
    "print \"c=\",c\n",
    "print \"a=\",a,\"b=\",b"
   ]
  },
  {
   "cell_type": "code",
   "execution_count": 4,
   "metadata": {},
   "outputs": [
    {
     "name": "stdout",
     "output_type": "stream",
     "text": [
      " <function fun at 0x02EE64F0>\n",
      "49177840\n",
      "<type 'function'>\n"
     ]
    }
   ],
   "source": [
    "def fun(a,b):\n",
    "    c=a+b\n",
    "    e=a-b\n",
    "    d=a*b\n",
    "    f=a/b\n",
    "print fun\n",
    "print id(fun)\n",
    "print type(fun)"
   ]
  },
  {
   "cell_type": "code",
   "execution_count": 5,
   "metadata": {},
   "outputs": [
    {
     "name": "stdout",
     "output_type": "stream",
     "text": [
      "1000 2000\n"
     ]
    },
    {
     "data": {
      "text/plain": [
       "'\\na=1000\\nb=2000\\n\\na=c1\\nb=c2\\n'"
      ]
     },
     "execution_count": 5,
     "metadata": {},
     "output_type": "execute_result"
    }
   ],
   "source": [
    "c1=1000\n",
    "c2=2000\n",
    "def fun(a,b):\n",
    "    print a,b\n",
    "fun(c1,c2)\n",
    "\"\"\"\n",
    "a=1000\n",
    "b=2000\n",
    "\n",
    "a=c1\n",
    "b=c2\n",
    "\"\"\""
   ]
  },
  {
   "cell_type": "code",
   "execution_count": 6,
   "metadata": {},
   "outputs": [
    {
     "name": "stdout",
     "output_type": "stream",
     "text": [
      "[10, 20, 30, 40, 1000]\n"
     ]
    }
   ],
   "source": [
    "l=[10,20,30,40]\n",
    "def fun(l1):\n",
    "    l1.append(1000)\n",
    "fun(l)\n",
    "print l"
   ]
  },
  {
   "cell_type": "code",
   "execution_count": 7,
   "metadata": {},
   "outputs": [
    {
     "name": "stdout",
     "output_type": "stream",
     "text": [
      "10 20\n",
      "None\n"
     ]
    }
   ],
   "source": [
    "def fun(a,b):\n",
    "    print a,b\n",
    "f=fun\n",
    "print f(10,20)"
   ]
  },
  {
   "cell_type": "code",
   "execution_count": 8,
   "metadata": {},
   "outputs": [
    {
     "name": "stdout",
     "output_type": "stream",
     "text": [
      "calling fun1\n",
      "fun1\n",
      "fun\n",
      "100 20\n",
      "None\n",
      "None\n"
     ]
    }
   ],
   "source": [
    "def fun1(f1,a,b):\n",
    "    print \"fun1\"\n",
    "    print f1(a,b)\n",
    "def fun(c1,c2):\n",
    "    print \"fun\"\n",
    "    print c1,c2\n",
    "print \"calling fun1\"\n",
    "print fun1(fun,100,20)"
   ]
  },
  {
   "cell_type": "code",
   "execution_count": 10,
   "metadata": {},
   "outputs": [
    {
     "name": "stdout",
     "output_type": "stream",
     "text": [
      "<__main__.Volume instance at 0x04507C10> 200\n"
     ]
    }
   ],
   "source": [
    "class Volume:\n",
    "    name=\"vol1\"\n",
    "    size_mb=20\n",
    "    aggregate=\"agr1\"\n",
    "    def extend(a,extend_size):\n",
    "        print a, extend_size\n",
    "v1=Volume()\n",
    "Volume.extend(v1,200)\n",
    "p\n"
   ]
  },
  {
   "cell_type": "code",
   "execution_count": 11,
   "metadata": {},
   "outputs": [
    {
     "name": "stdout",
     "output_type": "stream",
     "text": [
      "<__main__.Volume instance at 0x04507B20> 200\n",
      "vol1\n",
      "20\n",
      "agr1\n"
     ]
    }
   ],
   "source": [
    "class Volume:\n",
    "    name=\"vol1\"\n",
    "    size_mb=20\n",
    "    aggregate=\"agr1\"\n",
    "    def extend(a,extend_size):\n",
    "        print a, extend_size\n",
    "v1=Volume()\n",
    "Volume.extend(v1,200)\n",
    "print v1.name\n",
    "print v1.size_mb\n",
    "print v1.aggregate"
   ]
  },
  {
   "cell_type": "code",
   "execution_count": 12,
   "metadata": {},
   "outputs": [
    {
     "name": "stdout",
     "output_type": "stream",
     "text": [
      "<__main__.Volume instance at 0x04507C60> 200\n",
      "vol1\n",
      "20\n",
      "agr1\n",
      "<__main__.Volume instance at 0x04507C60> 200\n"
     ]
    }
   ],
   "source": [
    "class Volume:\n",
    "    name=\"vol1\"\n",
    "    size_mb=20\n",
    "    aggregate=\"agr1\"\n",
    "    def extend(a,extend_size):\n",
    "        print a, extend_size\n",
    "v1=Volume()\n",
    "Volume.extend(v1,200)\n",
    "print v1.name\n",
    "print v1.size_mb\n",
    "print v1.aggregate\n",
    "v1.extend(200)"
   ]
  },
  {
   "cell_type": "code",
   "execution_count": 13,
   "metadata": {},
   "outputs": [
    {
     "name": "stdout",
     "output_type": "stream",
     "text": [
      "<__main__.Volume instance at 0x045152D8> 200\n",
      "vol1\n",
      "20\n",
      "agr1\n"
     ]
    },
    {
     "ename": "TypeError",
     "evalue": "extend() takes exactly 2 arguments (3 given)",
     "output_type": "error",
     "traceback": [
      "\u001b[1;31m----------------------------------------------------------------\u001b[0m",
      "\u001b[1;31mTypeError\u001b[0m                      Traceback (most recent call last)",
      "\u001b[1;32m<ipython-input-13-4d3ec1c6e2f4>\u001b[0m in \u001b[0;36m<module>\u001b[1;34m()\u001b[0m\n\u001b[0;32m     10\u001b[0m \u001b[1;32mprint\u001b[0m \u001b[0mv1\u001b[0m\u001b[1;33m.\u001b[0m\u001b[0msize_mb\u001b[0m\u001b[1;33m\u001b[0m\u001b[0m\n\u001b[0;32m     11\u001b[0m \u001b[1;32mprint\u001b[0m \u001b[0mv1\u001b[0m\u001b[1;33m.\u001b[0m\u001b[0maggregate\u001b[0m\u001b[1;33m\u001b[0m\u001b[0m\n\u001b[1;32m---> 12\u001b[1;33m \u001b[0mv1\u001b[0m\u001b[1;33m.\u001b[0m\u001b[0mextend\u001b[0m\u001b[1;33m(\u001b[0m\u001b[0mv1\u001b[0m\u001b[1;33m,\u001b[0m \u001b[1;36m200\u001b[0m\u001b[1;33m)\u001b[0m\u001b[1;33m\u001b[0m\u001b[0m\n\u001b[0m",
      "\u001b[1;31mTypeError\u001b[0m: extend() takes exactly 2 arguments (3 given)"
     ]
    }
   ],
   "source": [
    "class Volume:\n",
    "    name=\"vol1\"\n",
    "    size_mb=20\n",
    "    aggregate=\"agr1\"\n",
    "    def extend(a,extend_size):\n",
    "        print a, extend_size\n",
    "v1=Volume()\n",
    "Volume.extend(v1,200)\n",
    "print v1.name\n",
    "print v1.size_mb\n",
    "print v1.aggregate\n",
    "v1.extend(v1, 200)"
   ]
  },
  {
   "cell_type": "code",
   "execution_count": 14,
   "metadata": {},
   "outputs": [
    {
     "ename": "AttributeError",
     "evalue": "Volume instance has no attribute 'aggregate'",
     "output_type": "error",
     "traceback": [
      "\u001b[1;31m----------------------------------------------------------------\u001b[0m",
      "\u001b[1;31mAttributeError\u001b[0m                 Traceback (most recent call last)",
      "\u001b[1;32m<ipython-input-14-c936ec45df06>\u001b[0m in \u001b[0;36m<module>\u001b[1;34m()\u001b[0m\n\u001b[0;32m     10\u001b[0m \u001b[0mv3\u001b[0m\u001b[1;33m.\u001b[0m\u001b[0msize_mb\u001b[0m\u001b[1;33m=\u001b[0m\u001b[1;36m200\u001b[0m\u001b[1;33m\u001b[0m\u001b[0m\n\u001b[0;32m     11\u001b[0m \u001b[0mv4\u001b[0m\u001b[1;33m.\u001b[0m\u001b[0maggregate\u001b[0m\u001b[1;33m=\u001b[0m\u001b[1;34m\"aggr1\"\u001b[0m\u001b[1;33m\u001b[0m\u001b[0m\n\u001b[1;32m---> 12\u001b[1;33m \u001b[1;32mprint\u001b[0m \u001b[0mv1\u001b[0m\u001b[1;33m.\u001b[0m\u001b[0maggregate\u001b[0m\u001b[1;33m\u001b[0m\u001b[0m\n\u001b[0m",
      "\u001b[1;31mAttributeError\u001b[0m: Volume instance has no attribute 'aggregate'"
     ]
    }
   ],
   "source": [
    "class Volume:\n",
    "    def extend(a,extend_size):\n",
    "        print a, extend_size\n",
    "v1=Volume()\n",
    "v2=Volume()\n",
    "v3=Volume()\n",
    "v4=Volume()\n",
    "v1.name=\"vol1\"\n",
    "v2.name=\"vol2\"\n",
    "v3.size_mb=200\n",
    "v4.aggregate=\"aggr1\"\n",
    "print v1.aggregate"
   ]
  },
  {
   "cell_type": "code",
   "execution_count": null,
   "metadata": {},
   "outputs": [],
   "source": []
  }
 ],
 "metadata": {
  "kernelspec": {
   "display_name": "Python 2",
   "language": "python",
   "name": "python2"
  },
  "language_info": {
   "codemirror_mode": {
    "name": "ipython",
    "version": 2
   },
   "file_extension": ".py",
   "mimetype": "text/x-python",
   "name": "python",
   "nbconvert_exporter": "python",
   "pygments_lexer": "ipython2",
   "version": "2.7.15"
  }
 },
 "nbformat": 4,
 "nbformat_minor": 2
}
