{
 "cells": [
  {
   "cell_type": "code",
   "execution_count": 1,
   "metadata": {},
   "outputs": [
    {
     "name": "stdout",
     "output_type": "stream",
     "text": [
      "this is class\n"
     ]
    }
   ],
   "source": [
    "def fun():\n",
    "    print \"this is fun\"\n",
    "class c1:\n",
    "    print \"this is class\""
   ]
  },
  {
   "cell_type": "code",
   "execution_count": 2,
   "metadata": {},
   "outputs": [
    {
     "name": "stdout",
     "output_type": "stream",
     "text": [
      "this is class\n"
     ]
    }
   ],
   "source": [
    "def fun():\n",
    "    print \"this is fun\"\n",
    "class c1:\n",
    "    print \"this is class\"\n",
    "    def fun1(a):\n",
    "        print \"this is fun1 in class\""
   ]
  },
  {
   "cell_type": "code",
   "execution_count": 3,
   "metadata": {},
   "outputs": [
    {
     "name": "stdout",
     "output_type": "stream",
     "text": [
      "vol1\n",
      "20\n",
      "aggr1\n"
     ]
    }
   ],
   "source": [
    "class Volume:\n",
    "    name=\"vol1\"\n",
    "    size_mb=20\n",
    "    aggregate=\"aggr1\"\n",
    "    def exapnd(a):\n",
    "        print \"this is fun1 in class\"\n",
    "    print name\n",
    "    print size_mb\n",
    "    print aggregate\n",
    "    "
   ]
  },
  {
   "cell_type": "code",
   "execution_count": 4,
   "metadata": {},
   "outputs": [
    {
     "ename": "NameError",
     "evalue": "name 'name' is not defined",
     "output_type": "error",
     "traceback": [
      "\u001b[1;31m--------------------------------------------------------------\u001b[0m",
      "\u001b[1;31mNameError\u001b[0m                    Traceback (most recent call last)",
      "\u001b[1;32m<ipython-input-4-c7d44b8288af>\u001b[0m in \u001b[0;36m<module>\u001b[1;34m()\u001b[0m\n\u001b[0;32m      5\u001b[0m     \u001b[1;32mdef\u001b[0m \u001b[0mexapnd\u001b[0m\u001b[1;33m(\u001b[0m\u001b[0ma\u001b[0m\u001b[1;33m)\u001b[0m\u001b[1;33m:\u001b[0m\u001b[1;33m\u001b[0m\u001b[0m\n\u001b[0;32m      6\u001b[0m         \u001b[1;32mprint\u001b[0m \u001b[1;34m\"this is fun1 in class\"\u001b[0m\u001b[1;33m\u001b[0m\u001b[0m\n\u001b[1;32m----> 7\u001b[1;33m \u001b[1;32mprint\u001b[0m \u001b[0mname\u001b[0m\u001b[1;33m\u001b[0m\u001b[0m\n\u001b[0m\u001b[0;32m      8\u001b[0m \u001b[1;32mprint\u001b[0m \u001b[0msize_mb\u001b[0m\u001b[1;33m\u001b[0m\u001b[0m\n\u001b[0;32m      9\u001b[0m \u001b[1;32mprint\u001b[0m \u001b[0maggregate\u001b[0m\u001b[1;33m\u001b[0m\u001b[0m\n",
      "\u001b[1;31mNameError\u001b[0m: name 'name' is not defined"
     ]
    }
   ],
   "source": [
    "class Volume:\n",
    "    name=\"vol1\"\n",
    "    size_mb=20\n",
    "    aggregate=\"aggr1\"\n",
    "    def exapnd(a):\n",
    "        print \"this is fun1 in class\"\n",
    "print name\n",
    "print size_mb\n",
    "print aggregate\n",
    "    "
   ]
  },
  {
   "cell_type": "code",
   "execution_count": 5,
   "metadata": {},
   "outputs": [
    {
     "name": "stdout",
     "output_type": "stream",
     "text": [
      "vol1\n",
      "20\n",
      "aggr1\n"
     ]
    }
   ],
   "source": [
    "class Volume:\n",
    "    name=\"vol1\"\n",
    "    size_mb=20\n",
    "    aggregate=\"aggr1\"\n",
    "    def expand(a):\n",
    "        print \"this is fun1 in class\"\n",
    "print Volume.name\n",
    "print Volume.size_mb\n",
    "print Volume.aggregate\n",
    "    "
   ]
  },
  {
   "cell_type": "code",
   "execution_count": 6,
   "metadata": {},
   "outputs": [
    {
     "name": "stdout",
     "output_type": "stream",
     "text": [
      "vol1\n",
      "20\n",
      "aggr1\n"
     ]
    },
    {
     "ename": "TypeError",
     "evalue": "unbound method expand() must be called with Volume instance as first argument (got int instance instead)",
     "output_type": "error",
     "traceback": [
      "\u001b[1;31m--------------------------------------------------------------\u001b[0m",
      "\u001b[1;31mTypeError\u001b[0m                    Traceback (most recent call last)",
      "\u001b[1;32m<ipython-input-6-b096a2b3130f>\u001b[0m in \u001b[0;36m<module>\u001b[1;34m()\u001b[0m\n\u001b[0;32m      8\u001b[0m \u001b[1;32mprint\u001b[0m \u001b[0mVolume\u001b[0m\u001b[1;33m.\u001b[0m\u001b[0msize_mb\u001b[0m\u001b[1;33m\u001b[0m\u001b[0m\n\u001b[0;32m      9\u001b[0m \u001b[1;32mprint\u001b[0m \u001b[0mVolume\u001b[0m\u001b[1;33m.\u001b[0m\u001b[0maggregate\u001b[0m\u001b[1;33m\u001b[0m\u001b[0m\n\u001b[1;32m---> 10\u001b[1;33m \u001b[1;32mprint\u001b[0m \u001b[0mVolume\u001b[0m\u001b[1;33m.\u001b[0m\u001b[0mexpand\u001b[0m\u001b[1;33m(\u001b[0m\u001b[1;36m20\u001b[0m\u001b[1;33m)\u001b[0m\u001b[1;33m\u001b[0m\u001b[0m\n\u001b[0m",
      "\u001b[1;31mTypeError\u001b[0m: unbound method expand() must be called with Volume instance as first argument (got int instance instead)"
     ]
    }
   ],
   "source": [
    "class Volume:\n",
    "    name=\"vol1\"\n",
    "    size_mb=20\n",
    "    aggregate=\"aggr1\"\n",
    "    def expand(a):\n",
    "        print \"this is fun1 in class\"\n",
    "print Volume.name\n",
    "print Volume.size_mb\n",
    "print Volume.aggregate\n",
    "print Volume.expand(20)"
   ]
  },
  {
   "cell_type": "code",
   "execution_count": 8,
   "metadata": {},
   "outputs": [
    {
     "name": "stdout",
     "output_type": "stream",
     "text": [
      "vol1\n",
      "20\n",
      "aggr1\n"
     ]
    },
    {
     "ename": "TypeError",
     "evalue": "unbound method expand() must be called with Volume instance as first argument (got classobj instance instead)",
     "output_type": "error",
     "traceback": [
      "\u001b[1;31m--------------------------------------------------------------\u001b[0m",
      "\u001b[1;31mTypeError\u001b[0m                    Traceback (most recent call last)",
      "\u001b[1;32m<ipython-input-8-899a7dd5850d>\u001b[0m in \u001b[0;36m<module>\u001b[1;34m()\u001b[0m\n\u001b[0;32m      8\u001b[0m \u001b[1;32mprint\u001b[0m \u001b[0mVolume\u001b[0m\u001b[1;33m.\u001b[0m\u001b[0msize_mb\u001b[0m\u001b[1;33m\u001b[0m\u001b[0m\n\u001b[0;32m      9\u001b[0m \u001b[1;32mprint\u001b[0m \u001b[0mVolume\u001b[0m\u001b[1;33m.\u001b[0m\u001b[0maggregate\u001b[0m\u001b[1;33m\u001b[0m\u001b[0m\n\u001b[1;32m---> 10\u001b[1;33m \u001b[1;32mprint\u001b[0m \u001b[0mVolume\u001b[0m\u001b[1;33m.\u001b[0m\u001b[0mexpand\u001b[0m\u001b[1;33m(\u001b[0m\u001b[0mVolume\u001b[0m\u001b[1;33m,\u001b[0m\u001b[1;36m20\u001b[0m\u001b[1;33m)\u001b[0m\u001b[1;33m\u001b[0m\u001b[0m\n\u001b[0m",
      "\u001b[1;31mTypeError\u001b[0m: unbound method expand() must be called with Volume instance as first argument (got classobj instance instead)"
     ]
    }
   ],
   "source": [
    "class Volume:\n",
    "    name=\"vol1\"\n",
    "    size_mb=20\n",
    "    aggregate=\"aggr1\"\n",
    "    def expand(a):\n",
    "        print \"this is fun1 in class\"\n",
    "print Volume.name\n",
    "print Volume.size_mb\n",
    "print Volume.aggregate\n",
    "print Volume.expand(Volume,20)"
   ]
  },
  {
   "cell_type": "code",
   "execution_count": 9,
   "metadata": {},
   "outputs": [],
   "source": [
    "a=20"
   ]
  },
  {
   "cell_type": "code",
   "execution_count": 10,
   "metadata": {},
   "outputs": [
    {
     "data": {
      "text/plain": [
       "int"
      ]
     },
     "execution_count": 10,
     "metadata": {},
     "output_type": "execute_result"
    }
   ],
   "source": [
    "int"
   ]
  },
  {
   "cell_type": "code",
   "execution_count": 11,
   "metadata": {},
   "outputs": [],
   "source": [
    "s=\"fdsds\""
   ]
  },
  {
   "cell_type": "code",
   "execution_count": 12,
   "metadata": {},
   "outputs": [
    {
     "name": "stdout",
     "output_type": "stream",
     "text": [
      "vol1\n",
      "20\n",
      "aggr1\n",
      "this is fun1 in class\n",
      "None\n"
     ]
    }
   ],
   "source": [
    "class Volume:\n",
    "    name=\"vol1\"\n",
    "    size_mb=20\n",
    "    aggregate=\"aggr1\"\n",
    "    def expand(a):\n",
    "        print \"this is fun1 in class\"\n",
    "print Volume.name\n",
    "print Volume.size_mb\n",
    "print Volume.aggregate\n",
    "v1 = Volume()\n",
    "print Volume.expand(v1)"
   ]
  },
  {
   "cell_type": "code",
   "execution_count": null,
   "metadata": {},
   "outputs": [],
   "source": []
  }
 ],
 "metadata": {
  "kernelspec": {
   "display_name": "Python 2",
   "language": "python",
   "name": "python2"
  },
  "language_info": {
   "codemirror_mode": {
    "name": "ipython",
    "version": 2
   },
   "file_extension": ".py",
   "mimetype": "text/x-python",
   "name": "python",
   "nbconvert_exporter": "python",
   "pygments_lexer": "ipython2",
   "version": "2.7.15"
  }
 },
 "nbformat": 4,
 "nbformat_minor": 2
}
